{
 "cells": [
  {
   "cell_type": "code",
   "execution_count": null,
   "metadata": {
    "colab": {
     "base_uri": "https://localhost:8080/",
     "height": 1000
    },
    "id": "CU0kDis-Rs3I",
    "outputId": "85b52138-ee07-46b0-9d79-7316193e3d30"
   },
   "outputs": [
    {
     "name": "stdout",
     "output_type": "stream",
     "text": [
      "Requirement already satisfied: GitPython in /usr/local/lib/python3.11/dist-packages (3.1.44)\n",
      "Requirement already satisfied: gitdb<5,>=4.0.1 in /usr/local/lib/python3.11/dist-packages (from GitPython) (4.0.12)\n",
      "Requirement already satisfied: smmap<6,>=3.0.1 in /usr/local/lib/python3.11/dist-packages (from gitdb<5,>=4.0.1->GitPython) (5.0.2)\n",
      "Requirement already satisfied: embed in /usr/local/lib/python3.11/dist-packages (0.3.0)\n",
      "Requirement already satisfied: infinity_emb==0.0.58 in /usr/local/lib/python3.11/dist-packages (from infinity_emb[audio,optimum,torch,vision]==0.0.58->embed) (0.0.58)\n",
      "Requirement already satisfied: hf_transfer>=0.1.5 in /usr/local/lib/python3.11/dist-packages (from infinity_emb==0.0.58->infinity_emb[audio,optimum,torch,vision]==0.0.58->embed) (0.1.9)\n",
      "Requirement already satisfied: huggingface_hub in /usr/local/lib/python3.11/dist-packages (from infinity_emb==0.0.58->infinity_emb[audio,optimum,torch,vision]==0.0.58->embed) (0.32.4)\n",
      "Collecting numpy<2,>=1.20.0 (from infinity_emb==0.0.58->infinity_emb[audio,optimum,torch,vision]==0.0.58->embed)\n",
      "  Using cached numpy-1.26.4-cp311-cp311-manylinux_2_17_x86_64.manylinux2014_x86_64.whl.metadata (61 kB)\n",
      "Requirement already satisfied: optimum>=1.16.2 in /usr/local/lib/python3.11/dist-packages (from optimum[onnxruntime]>=1.16.2; extra == \"optimum\" or extra == \"all\"->infinity_emb[audio,optimum,torch,vision]==0.0.58->embed) (1.25.3)\n",
      "Requirement already satisfied: pillow in /usr/local/lib/python3.11/dist-packages (from infinity_emb[audio,optimum,torch,vision]==0.0.58->embed) (11.2.1)\n",
      "Requirement already satisfied: sentence-transformers<4.0.0,>=3.0.1 in /usr/local/lib/python3.11/dist-packages (from infinity_emb[audio,optimum,torch,vision]==0.0.58->embed) (3.4.1)\n",
      "Requirement already satisfied: soundfile<0.13.0,>=0.12.1 in /usr/local/lib/python3.11/dist-packages (from infinity_emb[audio,optimum,torch,vision]==0.0.58->embed) (0.12.1)\n",
      "Requirement already satisfied: timm in /usr/local/lib/python3.11/dist-packages (from infinity_emb[audio,optimum,torch,vision]==0.0.58->embed) (1.0.15)\n",
      "Requirement already satisfied: torch>=2.2.1 in /usr/local/lib/python3.11/dist-packages (from infinity_emb[audio,optimum,torch,vision]==0.0.58->embed) (2.6.0+cu124)\n",
      "Requirement already satisfied: transformers>=4.29 in /usr/local/lib/python3.11/dist-packages (from optimum>=1.16.2->optimum[onnxruntime]>=1.16.2; extra == \"optimum\" or extra == \"all\"->infinity_emb[audio,optimum,torch,vision]==0.0.58->embed) (4.41.0)\n",
      "Requirement already satisfied: packaging in /usr/local/lib/python3.11/dist-packages (from optimum>=1.16.2->optimum[onnxruntime]>=1.16.2; extra == \"optimum\" or extra == \"all\"->infinity_emb[audio,optimum,torch,vision]==0.0.58->embed) (24.2)\n",
      "Requirement already satisfied: filelock in /usr/local/lib/python3.11/dist-packages (from huggingface_hub->infinity_emb==0.0.58->infinity_emb[audio,optimum,torch,vision]==0.0.58->embed) (3.18.0)\n",
      "Requirement already satisfied: fsspec>=2023.5.0 in /usr/local/lib/python3.11/dist-packages (from huggingface_hub->infinity_emb==0.0.58->infinity_emb[audio,optimum,torch,vision]==0.0.58->embed) (2025.3.2)\n",
      "Requirement already satisfied: pyyaml>=5.1 in /usr/local/lib/python3.11/dist-packages (from huggingface_hub->infinity_emb==0.0.58->infinity_emb[audio,optimum,torch,vision]==0.0.58->embed) (6.0.2)\n",
      "Requirement already satisfied: requests in /usr/local/lib/python3.11/dist-packages (from huggingface_hub->infinity_emb==0.0.58->infinity_emb[audio,optimum,torch,vision]==0.0.58->embed) (2.32.3)\n",
      "Requirement already satisfied: tqdm>=4.42.1 in /usr/local/lib/python3.11/dist-packages (from huggingface_hub->infinity_emb==0.0.58->infinity_emb[audio,optimum,torch,vision]==0.0.58->embed) (4.67.1)\n",
      "Requirement already satisfied: typing-extensions>=3.7.4.3 in /usr/local/lib/python3.11/dist-packages (from huggingface_hub->infinity_emb==0.0.58->infinity_emb[audio,optimum,torch,vision]==0.0.58->embed) (4.14.0)\n",
      "Requirement already satisfied: hf-xet<2.0.0,>=1.1.2 in /usr/local/lib/python3.11/dist-packages (from huggingface_hub->infinity_emb==0.0.58->infinity_emb[audio,optimum,torch,vision]==0.0.58->embed) (1.1.2)\n",
      "Requirement already satisfied: onnx in /usr/local/lib/python3.11/dist-packages (from optimum[onnxruntime]>=1.16.2; extra == \"optimum\" or extra == \"all\"->infinity_emb[audio,optimum,torch,vision]==0.0.58->embed) (1.18.0)\n",
      "Requirement already satisfied: datasets>=1.2.1 in /usr/local/lib/python3.11/dist-packages (from optimum[onnxruntime]>=1.16.2; extra == \"optimum\" or extra == \"all\"->infinity_emb[audio,optimum,torch,vision]==0.0.58->embed) (2.14.4)\n",
      "Requirement already satisfied: protobuf>=3.20.1 in /usr/local/lib/python3.11/dist-packages (from optimum[onnxruntime]>=1.16.2; extra == \"optimum\" or extra == \"all\"->infinity_emb[audio,optimum,torch,vision]==0.0.58->embed) (5.29.5)\n",
      "Requirement already satisfied: onnxruntime>=1.11.0 in /usr/local/lib/python3.11/dist-packages (from optimum[onnxruntime]>=1.16.2; extra == \"optimum\" or extra == \"all\"->infinity_emb[audio,optimum,torch,vision]==0.0.58->embed) (1.22.0)\n",
      "Requirement already satisfied: scikit-learn in /usr/local/lib/python3.11/dist-packages (from sentence-transformers<4.0.0,>=3.0.1->infinity_emb[audio,optimum,torch,vision]==0.0.58->embed) (1.6.1)\n",
      "Requirement already satisfied: scipy in /usr/local/lib/python3.11/dist-packages (from sentence-transformers<4.0.0,>=3.0.1->infinity_emb[audio,optimum,torch,vision]==0.0.58->embed) (1.15.3)\n",
      "Requirement already satisfied: cffi>=1.0 in /usr/local/lib/python3.11/dist-packages (from soundfile<0.13.0,>=0.12.1->infinity_emb[audio,optimum,torch,vision]==0.0.58->embed) (1.17.1)\n",
      "Requirement already satisfied: networkx in /usr/local/lib/python3.11/dist-packages (from torch>=2.2.1->infinity_emb[audio,optimum,torch,vision]==0.0.58->embed) (3.5)\n",
      "Requirement already satisfied: jinja2 in /usr/local/lib/python3.11/dist-packages (from torch>=2.2.1->infinity_emb[audio,optimum,torch,vision]==0.0.58->embed) (3.1.6)\n",
      "Requirement already satisfied: nvidia-cuda-nvrtc-cu12==12.4.127 in /usr/local/lib/python3.11/dist-packages (from torch>=2.2.1->infinity_emb[audio,optimum,torch,vision]==0.0.58->embed) (12.4.127)\n",
      "Requirement already satisfied: nvidia-cuda-runtime-cu12==12.4.127 in /usr/local/lib/python3.11/dist-packages (from torch>=2.2.1->infinity_emb[audio,optimum,torch,vision]==0.0.58->embed) (12.4.127)\n",
      "Requirement already satisfied: nvidia-cuda-cupti-cu12==12.4.127 in /usr/local/lib/python3.11/dist-packages (from torch>=2.2.1->infinity_emb[audio,optimum,torch,vision]==0.0.58->embed) (12.4.127)\n",
      "Requirement already satisfied: nvidia-cudnn-cu12==9.1.0.70 in /usr/local/lib/python3.11/dist-packages (from torch>=2.2.1->infinity_emb[audio,optimum,torch,vision]==0.0.58->embed) (9.1.0.70)\n",
      "Requirement already satisfied: nvidia-cublas-cu12==12.4.5.8 in /usr/local/lib/python3.11/dist-packages (from torch>=2.2.1->infinity_emb[audio,optimum,torch,vision]==0.0.58->embed) (12.4.5.8)\n",
      "Requirement already satisfied: nvidia-cufft-cu12==11.2.1.3 in /usr/local/lib/python3.11/dist-packages (from torch>=2.2.1->infinity_emb[audio,optimum,torch,vision]==0.0.58->embed) (11.2.1.3)\n",
      "Requirement already satisfied: nvidia-curand-cu12==10.3.5.147 in /usr/local/lib/python3.11/dist-packages (from torch>=2.2.1->infinity_emb[audio,optimum,torch,vision]==0.0.58->embed) (10.3.5.147)\n",
      "Requirement already satisfied: nvidia-cusolver-cu12==11.6.1.9 in /usr/local/lib/python3.11/dist-packages (from torch>=2.2.1->infinity_emb[audio,optimum,torch,vision]==0.0.58->embed) (11.6.1.9)\n",
      "Requirement already satisfied: nvidia-cusparse-cu12==12.3.1.170 in /usr/local/lib/python3.11/dist-packages (from torch>=2.2.1->infinity_emb[audio,optimum,torch,vision]==0.0.58->embed) (12.3.1.170)\n",
      "Requirement already satisfied: nvidia-cusparselt-cu12==0.6.2 in /usr/local/lib/python3.11/dist-packages (from torch>=2.2.1->infinity_emb[audio,optimum,torch,vision]==0.0.58->embed) (0.6.2)\n",
      "Requirement already satisfied: nvidia-nccl-cu12==2.21.5 in /usr/local/lib/python3.11/dist-packages (from torch>=2.2.1->infinity_emb[audio,optimum,torch,vision]==0.0.58->embed) (2.21.5)\n",
      "Requirement already satisfied: nvidia-nvtx-cu12==12.4.127 in /usr/local/lib/python3.11/dist-packages (from torch>=2.2.1->infinity_emb[audio,optimum,torch,vision]==0.0.58->embed) (12.4.127)\n",
      "Requirement already satisfied: nvidia-nvjitlink-cu12==12.4.127 in /usr/local/lib/python3.11/dist-packages (from torch>=2.2.1->infinity_emb[audio,optimum,torch,vision]==0.0.58->embed) (12.4.127)\n",
      "Requirement already satisfied: triton==3.2.0 in /usr/local/lib/python3.11/dist-packages (from torch>=2.2.1->infinity_emb[audio,optimum,torch,vision]==0.0.58->embed) (3.2.0)\n",
      "Requirement already satisfied: sympy==1.13.1 in /usr/local/lib/python3.11/dist-packages (from torch>=2.2.1->infinity_emb[audio,optimum,torch,vision]==0.0.58->embed) (1.13.1)\n",
      "Requirement already satisfied: mpmath<1.4,>=1.1.0 in /usr/local/lib/python3.11/dist-packages (from sympy==1.13.1->torch>=2.2.1->infinity_emb[audio,optimum,torch,vision]==0.0.58->embed) (1.3.0)\n",
      "Requirement already satisfied: torchvision in /usr/local/lib/python3.11/dist-packages (from timm->infinity_emb[audio,optimum,torch,vision]==0.0.58->embed) (0.21.0+cu124)\n",
      "Requirement already satisfied: safetensors in /usr/local/lib/python3.11/dist-packages (from timm->infinity_emb[audio,optimum,torch,vision]==0.0.58->embed) (0.5.3)\n",
      "Requirement already satisfied: pycparser in /usr/local/lib/python3.11/dist-packages (from cffi>=1.0->soundfile<0.13.0,>=0.12.1->infinity_emb[audio,optimum,torch,vision]==0.0.58->embed) (2.22)\n",
      "Requirement already satisfied: pyarrow>=8.0.0 in /usr/local/lib/python3.11/dist-packages (from datasets>=1.2.1->optimum[onnxruntime]>=1.16.2; extra == \"optimum\" or extra == \"all\"->infinity_emb[audio,optimum,torch,vision]==0.0.58->embed) (18.1.0)\n",
      "Requirement already satisfied: dill<0.3.8,>=0.3.0 in /usr/local/lib/python3.11/dist-packages (from datasets>=1.2.1->optimum[onnxruntime]>=1.16.2; extra == \"optimum\" or extra == \"all\"->infinity_emb[audio,optimum,torch,vision]==0.0.58->embed) (0.3.7)\n",
      "Requirement already satisfied: pandas in /usr/local/lib/python3.11/dist-packages (from datasets>=1.2.1->optimum[onnxruntime]>=1.16.2; extra == \"optimum\" or extra == \"all\"->infinity_emb[audio,optimum,torch,vision]==0.0.58->embed) (2.2.2)\n",
      "Requirement already satisfied: xxhash in /usr/local/lib/python3.11/dist-packages (from datasets>=1.2.1->optimum[onnxruntime]>=1.16.2; extra == \"optimum\" or extra == \"all\"->infinity_emb[audio,optimum,torch,vision]==0.0.58->embed) (3.5.0)\n",
      "Requirement already satisfied: multiprocess in /usr/local/lib/python3.11/dist-packages (from datasets>=1.2.1->optimum[onnxruntime]>=1.16.2; extra == \"optimum\" or extra == \"all\"->infinity_emb[audio,optimum,torch,vision]==0.0.58->embed) (0.70.15)\n",
      "Requirement already satisfied: aiohttp in /usr/local/lib/python3.11/dist-packages (from datasets>=1.2.1->optimum[onnxruntime]>=1.16.2; extra == \"optimum\" or extra == \"all\"->infinity_emb[audio,optimum,torch,vision]==0.0.58->embed) (3.11.15)\n",
      "Requirement already satisfied: coloredlogs in /usr/local/lib/python3.11/dist-packages (from onnxruntime>=1.11.0->optimum[onnxruntime]>=1.16.2; extra == \"optimum\" or extra == \"all\"->infinity_emb[audio,optimum,torch,vision]==0.0.58->embed) (15.0.1)\n",
      "Requirement already satisfied: flatbuffers in /usr/local/lib/python3.11/dist-packages (from onnxruntime>=1.11.0->optimum[onnxruntime]>=1.16.2; extra == \"optimum\" or extra == \"all\"->infinity_emb[audio,optimum,torch,vision]==0.0.58->embed) (25.2.10)\n",
      "Requirement already satisfied: charset-normalizer<4,>=2 in /usr/local/lib/python3.11/dist-packages (from requests->huggingface_hub->infinity_emb==0.0.58->infinity_emb[audio,optimum,torch,vision]==0.0.58->embed) (3.4.2)\n",
      "Requirement already satisfied: idna<4,>=2.5 in /usr/local/lib/python3.11/dist-packages (from requests->huggingface_hub->infinity_emb==0.0.58->infinity_emb[audio,optimum,torch,vision]==0.0.58->embed) (3.10)\n",
      "Requirement already satisfied: urllib3<3,>=1.21.1 in /usr/local/lib/python3.11/dist-packages (from requests->huggingface_hub->infinity_emb==0.0.58->infinity_emb[audio,optimum,torch,vision]==0.0.58->embed) (2.4.0)\n",
      "Requirement already satisfied: certifi>=2017.4.17 in /usr/local/lib/python3.11/dist-packages (from requests->huggingface_hub->infinity_emb==0.0.58->infinity_emb[audio,optimum,torch,vision]==0.0.58->embed) (2025.4.26)\n",
      "Requirement already satisfied: regex!=2019.12.17 in /usr/local/lib/python3.11/dist-packages (from transformers>=4.29->optimum>=1.16.2->optimum[onnxruntime]>=1.16.2; extra == \"optimum\" or extra == \"all\"->infinity_emb[audio,optimum,torch,vision]==0.0.58->embed) (2024.11.6)\n",
      "Requirement already satisfied: tokenizers<0.20,>=0.19 in /usr/local/lib/python3.11/dist-packages (from transformers>=4.29->optimum>=1.16.2->optimum[onnxruntime]>=1.16.2; extra == \"optimum\" or extra == \"all\"->infinity_emb[audio,optimum,torch,vision]==0.0.58->embed) (0.19.1)\n",
      "Requirement already satisfied: MarkupSafe>=2.0 in /usr/local/lib/python3.11/dist-packages (from jinja2->torch>=2.2.1->infinity_emb[audio,optimum,torch,vision]==0.0.58->embed) (3.0.2)\n",
      "Requirement already satisfied: joblib>=1.2.0 in /usr/local/lib/python3.11/dist-packages (from scikit-learn->sentence-transformers<4.0.0,>=3.0.1->infinity_emb[audio,optimum,torch,vision]==0.0.58->embed) (1.5.1)\n",
      "Requirement already satisfied: threadpoolctl>=3.1.0 in /usr/local/lib/python3.11/dist-packages (from scikit-learn->sentence-transformers<4.0.0,>=3.0.1->infinity_emb[audio,optimum,torch,vision]==0.0.58->embed) (3.6.0)\n",
      "Requirement already satisfied: aiohappyeyeballs>=2.3.0 in /usr/local/lib/python3.11/dist-packages (from aiohttp->datasets>=1.2.1->optimum[onnxruntime]>=1.16.2; extra == \"optimum\" or extra == \"all\"->infinity_emb[audio,optimum,torch,vision]==0.0.58->embed) (2.6.1)\n",
      "Requirement already satisfied: aiosignal>=1.1.2 in /usr/local/lib/python3.11/dist-packages (from aiohttp->datasets>=1.2.1->optimum[onnxruntime]>=1.16.2; extra == \"optimum\" or extra == \"all\"->infinity_emb[audio,optimum,torch,vision]==0.0.58->embed) (1.3.2)\n",
      "Requirement already satisfied: attrs>=17.3.0 in /usr/local/lib/python3.11/dist-packages (from aiohttp->datasets>=1.2.1->optimum[onnxruntime]>=1.16.2; extra == \"optimum\" or extra == \"all\"->infinity_emb[audio,optimum,torch,vision]==0.0.58->embed) (25.3.0)\n",
      "Requirement already satisfied: frozenlist>=1.1.1 in /usr/local/lib/python3.11/dist-packages (from aiohttp->datasets>=1.2.1->optimum[onnxruntime]>=1.16.2; extra == \"optimum\" or extra == \"all\"->infinity_emb[audio,optimum,torch,vision]==0.0.58->embed) (1.6.0)\n",
      "Requirement already satisfied: multidict<7.0,>=4.5 in /usr/local/lib/python3.11/dist-packages (from aiohttp->datasets>=1.2.1->optimum[onnxruntime]>=1.16.2; extra == \"optimum\" or extra == \"all\"->infinity_emb[audio,optimum,torch,vision]==0.0.58->embed) (6.4.4)\n",
      "Requirement already satisfied: propcache>=0.2.0 in /usr/local/lib/python3.11/dist-packages (from aiohttp->datasets>=1.2.1->optimum[onnxruntime]>=1.16.2; extra == \"optimum\" or extra == \"all\"->infinity_emb[audio,optimum,torch,vision]==0.0.58->embed) (0.3.1)\n",
      "Requirement already satisfied: yarl<2.0,>=1.17.0 in /usr/local/lib/python3.11/dist-packages (from aiohttp->datasets>=1.2.1->optimum[onnxruntime]>=1.16.2; extra == \"optimum\" or extra == \"all\"->infinity_emb[audio,optimum,torch,vision]==0.0.58->embed) (1.20.0)\n",
      "Requirement already satisfied: humanfriendly>=9.1 in /usr/local/lib/python3.11/dist-packages (from coloredlogs->onnxruntime>=1.11.0->optimum[onnxruntime]>=1.16.2; extra == \"optimum\" or extra == \"all\"->infinity_emb[audio,optimum,torch,vision]==0.0.58->embed) (10.0)\n",
      "Requirement already satisfied: python-dateutil>=2.8.2 in /usr/local/lib/python3.11/dist-packages (from pandas->datasets>=1.2.1->optimum[onnxruntime]>=1.16.2; extra == \"optimum\" or extra == \"all\"->infinity_emb[audio,optimum,torch,vision]==0.0.58->embed) (2.9.0.post0)\n",
      "Requirement already satisfied: pytz>=2020.1 in /usr/local/lib/python3.11/dist-packages (from pandas->datasets>=1.2.1->optimum[onnxruntime]>=1.16.2; extra == \"optimum\" or extra == \"all\"->infinity_emb[audio,optimum,torch,vision]==0.0.58->embed) (2025.2)\n",
      "Requirement already satisfied: tzdata>=2022.7 in /usr/local/lib/python3.11/dist-packages (from pandas->datasets>=1.2.1->optimum[onnxruntime]>=1.16.2; extra == \"optimum\" or extra == \"all\"->infinity_emb[audio,optimum,torch,vision]==0.0.58->embed) (2025.2)\n",
      "Requirement already satisfied: six>=1.5 in /usr/local/lib/python3.11/dist-packages (from python-dateutil>=2.8.2->pandas->datasets>=1.2.1->optimum[onnxruntime]>=1.16.2; extra == \"optimum\" or extra == \"all\"->infinity_emb[audio,optimum,torch,vision]==0.0.58->embed) (1.17.0)\n",
      "Using cached numpy-1.26.4-cp311-cp311-manylinux_2_17_x86_64.manylinux2014_x86_64.whl (18.3 MB)\n",
      "Installing collected packages: numpy\n",
      "  Attempting uninstall: numpy\n",
      "    Found existing installation: numpy 2.0.0\n",
      "    Uninstalling numpy-2.0.0:\n",
      "      Successfully uninstalled numpy-2.0.0\n",
      "\u001b[31mERROR: pip's dependency resolver does not currently take into account all the packages that are installed. This behaviour is the source of the following dependency conflicts.\n",
      "thinc 8.3.6 requires numpy<3.0.0,>=2.0.0, but you have numpy 1.26.4 which is incompatible.\u001b[0m\u001b[31m\n",
      "\u001b[0mSuccessfully installed numpy-1.26.4\n",
      "Requirement already satisfied: torch in /usr/local/lib/python3.11/dist-packages (2.6.0+cu124)\n",
      "Requirement already satisfied: filelock in /usr/local/lib/python3.11/dist-packages (from torch) (3.18.0)\n",
      "Requirement already satisfied: typing-extensions>=4.10.0 in /usr/local/lib/python3.11/dist-packages (from torch) (4.14.0)\n",
      "Requirement already satisfied: networkx in /usr/local/lib/python3.11/dist-packages (from torch) (3.5)\n",
      "Requirement already satisfied: jinja2 in /usr/local/lib/python3.11/dist-packages (from torch) (3.1.6)\n",
      "Requirement already satisfied: fsspec in /usr/local/lib/python3.11/dist-packages (from torch) (2025.3.2)\n",
      "Requirement already satisfied: nvidia-cuda-nvrtc-cu12==12.4.127 in /usr/local/lib/python3.11/dist-packages (from torch) (12.4.127)\n",
      "Requirement already satisfied: nvidia-cuda-runtime-cu12==12.4.127 in /usr/local/lib/python3.11/dist-packages (from torch) (12.4.127)\n",
      "Requirement already satisfied: nvidia-cuda-cupti-cu12==12.4.127 in /usr/local/lib/python3.11/dist-packages (from torch) (12.4.127)\n",
      "Requirement already satisfied: nvidia-cudnn-cu12==9.1.0.70 in /usr/local/lib/python3.11/dist-packages (from torch) (9.1.0.70)\n",
      "Requirement already satisfied: nvidia-cublas-cu12==12.4.5.8 in /usr/local/lib/python3.11/dist-packages (from torch) (12.4.5.8)\n",
      "Requirement already satisfied: nvidia-cufft-cu12==11.2.1.3 in /usr/local/lib/python3.11/dist-packages (from torch) (11.2.1.3)\n",
      "Requirement already satisfied: nvidia-curand-cu12==10.3.5.147 in /usr/local/lib/python3.11/dist-packages (from torch) (10.3.5.147)\n",
      "Requirement already satisfied: nvidia-cusolver-cu12==11.6.1.9 in /usr/local/lib/python3.11/dist-packages (from torch) (11.6.1.9)\n",
      "Requirement already satisfied: nvidia-cusparse-cu12==12.3.1.170 in /usr/local/lib/python3.11/dist-packages (from torch) (12.3.1.170)\n",
      "Requirement already satisfied: nvidia-cusparselt-cu12==0.6.2 in /usr/local/lib/python3.11/dist-packages (from torch) (0.6.2)\n",
      "Requirement already satisfied: nvidia-nccl-cu12==2.21.5 in /usr/local/lib/python3.11/dist-packages (from torch) (2.21.5)\n",
      "Requirement already satisfied: nvidia-nvtx-cu12==12.4.127 in /usr/local/lib/python3.11/dist-packages (from torch) (12.4.127)\n",
      "Requirement already satisfied: nvidia-nvjitlink-cu12==12.4.127 in /usr/local/lib/python3.11/dist-packages (from torch) (12.4.127)\n",
      "Requirement already satisfied: triton==3.2.0 in /usr/local/lib/python3.11/dist-packages (from torch) (3.2.0)\n",
      "Requirement already satisfied: sympy==1.13.1 in /usr/local/lib/python3.11/dist-packages (from torch) (1.13.1)\n",
      "Requirement already satisfied: mpmath<1.4,>=1.1.0 in /usr/local/lib/python3.11/dist-packages (from sympy==1.13.1->torch) (1.3.0)\n",
      "Requirement already satisfied: MarkupSafe>=2.0 in /usr/local/lib/python3.11/dist-packages (from jinja2->torch) (3.0.2)\n",
      "Collecting transformers==4.46.0\n",
      "  Downloading transformers-4.46.0-py3-none-any.whl.metadata (44 kB)\n",
      "\u001b[2K     \u001b[90m━━━━━━━━━━━━━━━━━━━━━━━━━━━━━━━━━━━━━━━━\u001b[0m \u001b[32m44.1/44.1 kB\u001b[0m \u001b[31m2.0 MB/s\u001b[0m eta \u001b[36m0:00:00\u001b[0m\n",
      "\u001b[?25hRequirement already satisfied: filelock in /usr/local/lib/python3.11/dist-packages (from transformers==4.46.0) (3.18.0)\n",
      "Requirement already satisfied: huggingface-hub<1.0,>=0.23.2 in /usr/local/lib/python3.11/dist-packages (from transformers==4.46.0) (0.32.4)\n",
      "Requirement already satisfied: numpy>=1.17 in /usr/local/lib/python3.11/dist-packages (from transformers==4.46.0) (1.26.4)\n",
      "Requirement already satisfied: packaging>=20.0 in /usr/local/lib/python3.11/dist-packages (from transformers==4.46.0) (24.2)\n",
      "Requirement already satisfied: pyyaml>=5.1 in /usr/local/lib/python3.11/dist-packages (from transformers==4.46.0) (6.0.2)\n",
      "Requirement already satisfied: regex!=2019.12.17 in /usr/local/lib/python3.11/dist-packages (from transformers==4.46.0) (2024.11.6)\n",
      "Requirement already satisfied: requests in /usr/local/lib/python3.11/dist-packages (from transformers==4.46.0) (2.32.3)\n",
      "Requirement already satisfied: safetensors>=0.4.1 in /usr/local/lib/python3.11/dist-packages (from transformers==4.46.0) (0.5.3)\n",
      "Collecting tokenizers<0.21,>=0.20 (from transformers==4.46.0)\n",
      "  Downloading tokenizers-0.20.3-cp311-cp311-manylinux_2_17_x86_64.manylinux2014_x86_64.whl.metadata (6.7 kB)\n",
      "Requirement already satisfied: tqdm>=4.27 in /usr/local/lib/python3.11/dist-packages (from transformers==4.46.0) (4.67.1)\n",
      "Requirement already satisfied: fsspec>=2023.5.0 in /usr/local/lib/python3.11/dist-packages (from huggingface-hub<1.0,>=0.23.2->transformers==4.46.0) (2025.3.2)\n",
      "Requirement already satisfied: typing-extensions>=3.7.4.3 in /usr/local/lib/python3.11/dist-packages (from huggingface-hub<1.0,>=0.23.2->transformers==4.46.0) (4.14.0)\n",
      "Requirement already satisfied: hf-xet<2.0.0,>=1.1.2 in /usr/local/lib/python3.11/dist-packages (from huggingface-hub<1.0,>=0.23.2->transformers==4.46.0) (1.1.2)\n",
      "Requirement already satisfied: charset-normalizer<4,>=2 in /usr/local/lib/python3.11/dist-packages (from requests->transformers==4.46.0) (3.4.2)\n",
      "Requirement already satisfied: idna<4,>=2.5 in /usr/local/lib/python3.11/dist-packages (from requests->transformers==4.46.0) (3.10)\n",
      "Requirement already satisfied: urllib3<3,>=1.21.1 in /usr/local/lib/python3.11/dist-packages (from requests->transformers==4.46.0) (2.4.0)\n",
      "Requirement already satisfied: certifi>=2017.4.17 in /usr/local/lib/python3.11/dist-packages (from requests->transformers==4.46.0) (2025.4.26)\n",
      "\u001b[33mWARNING: The candidate selected for download or install is a yanked version: 'transformers' candidate (version 4.46.0 at https://files.pythonhosted.org/packages/db/88/1ef8a624a33d7fe460a686b9e0194a7916320fc0d67d4e38e570beeac039/transformers-4.46.0-py3-none-any.whl (from https://pypi.org/simple/transformers/) (requires-python:>=3.8.0))\n",
      "Reason for being yanked: This version unfortunately does not work with 3.8 but we did not drop the support yet\u001b[0m\u001b[33m\n",
      "\u001b[0mDownloading transformers-4.46.0-py3-none-any.whl (10.0 MB)\n",
      "\u001b[2K   \u001b[90m━━━━━━━━━━━━━━━━━━━━━━━━━━━━━━━━━━━━━━━━\u001b[0m \u001b[32m10.0/10.0 MB\u001b[0m \u001b[31m76.4 MB/s\u001b[0m eta \u001b[36m0:00:00\u001b[0m\n",
      "\u001b[?25hDownloading tokenizers-0.20.3-cp311-cp311-manylinux_2_17_x86_64.manylinux2014_x86_64.whl (3.0 MB)\n",
      "\u001b[2K   \u001b[90m━━━━━━━━━━━━━━━━━━━━━━━━━━━━━━━━━━━━━━━━\u001b[0m \u001b[32m3.0/3.0 MB\u001b[0m \u001b[31m105.4 MB/s\u001b[0m eta \u001b[36m0:00:00\u001b[0m\n",
      "\u001b[?25hInstalling collected packages: tokenizers, transformers\n",
      "  Attempting uninstall: tokenizers\n",
      "    Found existing installation: tokenizers 0.19.1\n",
      "    Uninstalling tokenizers-0.19.1:\n",
      "      Successfully uninstalled tokenizers-0.19.1\n",
      "  Attempting uninstall: transformers\n",
      "    Found existing installation: transformers 4.41.0\n",
      "    Uninstalling transformers-4.41.0:\n",
      "      Successfully uninstalled transformers-4.41.0\n",
      "Successfully installed tokenizers-0.20.3 transformers-4.46.0\n"
     ]
    },
    {
     "data": {
      "application/vnd.colab-display-data+json": {
       "id": "f9c331bf6bb74cfa90f6d0db62604417",
       "pip_warning": {
        "packages": [
         "transformers"
        ]
       }
      }
     },
     "metadata": {},
     "output_type": "display_data"
    },
    {
     "name": "stdout",
     "output_type": "stream",
     "text": [
      "Requirement already satisfied: peft==0.10.0 in /usr/local/lib/python3.11/dist-packages (0.10.0)\n",
      "Requirement already satisfied: numpy>=1.17 in /usr/local/lib/python3.11/dist-packages (from peft==0.10.0) (1.26.4)\n",
      "Requirement already satisfied: packaging>=20.0 in /usr/local/lib/python3.11/dist-packages (from peft==0.10.0) (24.2)\n",
      "Requirement already satisfied: psutil in /usr/local/lib/python3.11/dist-packages (from peft==0.10.0) (5.9.5)\n",
      "Requirement already satisfied: pyyaml in /usr/local/lib/python3.11/dist-packages (from peft==0.10.0) (6.0.2)\n",
      "Requirement already satisfied: torch>=1.13.0 in /usr/local/lib/python3.11/dist-packages (from peft==0.10.0) (2.6.0+cu124)\n",
      "Requirement already satisfied: transformers in /usr/local/lib/python3.11/dist-packages (from peft==0.10.0) (4.46.0)\n",
      "Requirement already satisfied: tqdm in /usr/local/lib/python3.11/dist-packages (from peft==0.10.0) (4.67.1)\n",
      "Requirement already satisfied: accelerate>=0.21.0 in /usr/local/lib/python3.11/dist-packages (from peft==0.10.0) (1.7.0)\n",
      "Requirement already satisfied: safetensors in /usr/local/lib/python3.11/dist-packages (from peft==0.10.0) (0.5.3)\n",
      "Requirement already satisfied: huggingface-hub>=0.17.0 in /usr/local/lib/python3.11/dist-packages (from peft==0.10.0) (0.32.4)\n",
      "Requirement already satisfied: filelock in /usr/local/lib/python3.11/dist-packages (from huggingface-hub>=0.17.0->peft==0.10.0) (3.18.0)\n",
      "Requirement already satisfied: fsspec>=2023.5.0 in /usr/local/lib/python3.11/dist-packages (from huggingface-hub>=0.17.0->peft==0.10.0) (2025.3.2)\n",
      "Requirement already satisfied: requests in /usr/local/lib/python3.11/dist-packages (from huggingface-hub>=0.17.0->peft==0.10.0) (2.32.3)\n",
      "Requirement already satisfied: typing-extensions>=3.7.4.3 in /usr/local/lib/python3.11/dist-packages (from huggingface-hub>=0.17.0->peft==0.10.0) (4.14.0)\n",
      "Requirement already satisfied: hf-xet<2.0.0,>=1.1.2 in /usr/local/lib/python3.11/dist-packages (from huggingface-hub>=0.17.0->peft==0.10.0) (1.1.2)\n",
      "Requirement already satisfied: networkx in /usr/local/lib/python3.11/dist-packages (from torch>=1.13.0->peft==0.10.0) (3.5)\n",
      "Requirement already satisfied: jinja2 in /usr/local/lib/python3.11/dist-packages (from torch>=1.13.0->peft==0.10.0) (3.1.6)\n",
      "Requirement already satisfied: nvidia-cuda-nvrtc-cu12==12.4.127 in /usr/local/lib/python3.11/dist-packages (from torch>=1.13.0->peft==0.10.0) (12.4.127)\n",
      "Requirement already satisfied: nvidia-cuda-runtime-cu12==12.4.127 in /usr/local/lib/python3.11/dist-packages (from torch>=1.13.0->peft==0.10.0) (12.4.127)\n",
      "Requirement already satisfied: nvidia-cuda-cupti-cu12==12.4.127 in /usr/local/lib/python3.11/dist-packages (from torch>=1.13.0->peft==0.10.0) (12.4.127)\n",
      "Requirement already satisfied: nvidia-cudnn-cu12==9.1.0.70 in /usr/local/lib/python3.11/dist-packages (from torch>=1.13.0->peft==0.10.0) (9.1.0.70)\n",
      "Requirement already satisfied: nvidia-cublas-cu12==12.4.5.8 in /usr/local/lib/python3.11/dist-packages (from torch>=1.13.0->peft==0.10.0) (12.4.5.8)\n",
      "Requirement already satisfied: nvidia-cufft-cu12==11.2.1.3 in /usr/local/lib/python3.11/dist-packages (from torch>=1.13.0->peft==0.10.0) (11.2.1.3)\n",
      "Requirement already satisfied: nvidia-curand-cu12==10.3.5.147 in /usr/local/lib/python3.11/dist-packages (from torch>=1.13.0->peft==0.10.0) (10.3.5.147)\n",
      "Requirement already satisfied: nvidia-cusolver-cu12==11.6.1.9 in /usr/local/lib/python3.11/dist-packages (from torch>=1.13.0->peft==0.10.0) (11.6.1.9)\n",
      "Requirement already satisfied: nvidia-cusparse-cu12==12.3.1.170 in /usr/local/lib/python3.11/dist-packages (from torch>=1.13.0->peft==0.10.0) (12.3.1.170)\n",
      "Requirement already satisfied: nvidia-cusparselt-cu12==0.6.2 in /usr/local/lib/python3.11/dist-packages (from torch>=1.13.0->peft==0.10.0) (0.6.2)\n",
      "Requirement already satisfied: nvidia-nccl-cu12==2.21.5 in /usr/local/lib/python3.11/dist-packages (from torch>=1.13.0->peft==0.10.0) (2.21.5)\n",
      "Requirement already satisfied: nvidia-nvtx-cu12==12.4.127 in /usr/local/lib/python3.11/dist-packages (from torch>=1.13.0->peft==0.10.0) (12.4.127)\n",
      "Requirement already satisfied: nvidia-nvjitlink-cu12==12.4.127 in /usr/local/lib/python3.11/dist-packages (from torch>=1.13.0->peft==0.10.0) (12.4.127)\n",
      "Requirement already satisfied: triton==3.2.0 in /usr/local/lib/python3.11/dist-packages (from torch>=1.13.0->peft==0.10.0) (3.2.0)\n",
      "Requirement already satisfied: sympy==1.13.1 in /usr/local/lib/python3.11/dist-packages (from torch>=1.13.0->peft==0.10.0) (1.13.1)\n",
      "Requirement already satisfied: mpmath<1.4,>=1.1.0 in /usr/local/lib/python3.11/dist-packages (from sympy==1.13.1->torch>=1.13.0->peft==0.10.0) (1.3.0)\n",
      "Requirement already satisfied: regex!=2019.12.17 in /usr/local/lib/python3.11/dist-packages (from transformers->peft==0.10.0) (2024.11.6)\n",
      "Requirement already satisfied: tokenizers<0.21,>=0.20 in /usr/local/lib/python3.11/dist-packages (from transformers->peft==0.10.0) (0.20.3)\n",
      "Requirement already satisfied: MarkupSafe>=2.0 in /usr/local/lib/python3.11/dist-packages (from jinja2->torch>=1.13.0->peft==0.10.0) (3.0.2)\n",
      "Requirement already satisfied: charset-normalizer<4,>=2 in /usr/local/lib/python3.11/dist-packages (from requests->huggingface-hub>=0.17.0->peft==0.10.0) (3.4.2)\n",
      "Requirement already satisfied: idna<4,>=2.5 in /usr/local/lib/python3.11/dist-packages (from requests->huggingface-hub>=0.17.0->peft==0.10.0) (3.10)\n",
      "Requirement already satisfied: urllib3<3,>=1.21.1 in /usr/local/lib/python3.11/dist-packages (from requests->huggingface-hub>=0.17.0->peft==0.10.0) (2.4.0)\n",
      "Requirement already satisfied: certifi>=2017.4.17 in /usr/local/lib/python3.11/dist-packages (from requests->huggingface-hub>=0.17.0->peft==0.10.0) (2025.4.26)\n",
      "Requirement already satisfied: pymilvus in /usr/local/lib/python3.11/dist-packages (2.5.10)\n",
      "Requirement already satisfied: setuptools>69 in /usr/local/lib/python3.11/dist-packages (from pymilvus) (75.2.0)\n",
      "Requirement already satisfied: grpcio<=1.67.1,>=1.49.1 in /usr/local/lib/python3.11/dist-packages (from pymilvus) (1.67.1)\n",
      "Requirement already satisfied: protobuf>=3.20.0 in /usr/local/lib/python3.11/dist-packages (from pymilvus) (5.29.5)\n",
      "Requirement already satisfied: python-dotenv<2.0.0,>=1.0.1 in /usr/local/lib/python3.11/dist-packages (from pymilvus) (1.1.0)\n",
      "Requirement already satisfied: ujson>=2.0.0 in /usr/local/lib/python3.11/dist-packages (from pymilvus) (5.10.0)\n",
      "Requirement already satisfied: pandas>=1.2.4 in /usr/local/lib/python3.11/dist-packages (from pymilvus) (2.2.2)\n",
      "Requirement already satisfied: milvus-lite>=2.4.0 in /usr/local/lib/python3.11/dist-packages (from pymilvus) (2.4.12)\n",
      "Requirement already satisfied: tqdm in /usr/local/lib/python3.11/dist-packages (from milvus-lite>=2.4.0->pymilvus) (4.67.1)\n",
      "Requirement already satisfied: numpy>=1.23.2 in /usr/local/lib/python3.11/dist-packages (from pandas>=1.2.4->pymilvus) (1.26.4)\n",
      "Requirement already satisfied: python-dateutil>=2.8.2 in /usr/local/lib/python3.11/dist-packages (from pandas>=1.2.4->pymilvus) (2.9.0.post0)\n",
      "Requirement already satisfied: pytz>=2020.1 in /usr/local/lib/python3.11/dist-packages (from pandas>=1.2.4->pymilvus) (2025.2)\n",
      "Requirement already satisfied: tzdata>=2022.7 in /usr/local/lib/python3.11/dist-packages (from pandas>=1.2.4->pymilvus) (2025.2)\n",
      "Requirement already satisfied: six>=1.5 in /usr/local/lib/python3.11/dist-packages (from python-dateutil>=2.8.2->pandas>=1.2.4->pymilvus) (1.17.0)\n",
      "Collecting numpy==2.0.0\n",
      "  Using cached numpy-2.0.0-cp311-cp311-manylinux_2_17_x86_64.manylinux2014_x86_64.whl.metadata (60 kB)\n",
      "Using cached numpy-2.0.0-cp311-cp311-manylinux_2_17_x86_64.manylinux2014_x86_64.whl (19.3 MB)\n",
      "Installing collected packages: numpy\n",
      "  Attempting uninstall: numpy\n",
      "    Found existing installation: numpy 1.26.4\n",
      "    Uninstalling numpy-1.26.4:\n",
      "      Successfully uninstalled numpy-1.26.4\n",
      "\u001b[31mERROR: pip's dependency resolver does not currently take into account all the packages that are installed. This behaviour is the source of the following dependency conflicts.\n",
      "infinity-emb 0.0.58 requires numpy<2,>=1.20.0, but you have numpy 2.0.0 which is incompatible.\u001b[0m\u001b[31m\n",
      "\u001b[0mSuccessfully installed numpy-2.0.0\n"
     ]
    }
   ],
   "source": [
    "#System installs\n",
    "!pip install GitPython\n",
    "!pip install embed\n",
    "!pip install torch\n",
    "!pip install transformers==4.46.0\n",
    "!pip install peft==0.10.0\n",
    "!pip install --upgrade pymilvus\n",
    "!pip install numpy==2.0.0\n"
   ]
  },
  {
   "cell_type": "code",
   "execution_count": null,
   "metadata": {
    "colab": {
     "base_uri": "https://localhost:8080/"
    },
    "id": "bM0PSGoFanJQ",
    "outputId": "aac9ccaf-41ac-4b1c-c473-c4ed012e23e3"
   },
   "outputs": [
    {
     "name": "stdout",
     "output_type": "stream",
     "text": [
      "\n",
      "    _|    _|  _|    _|    _|_|_|    _|_|_|  _|_|_|  _|      _|    _|_|_|      _|_|_|_|    _|_|      _|_|_|  _|_|_|_|\n",
      "    _|    _|  _|    _|  _|        _|          _|    _|_|    _|  _|            _|        _|    _|  _|        _|\n",
      "    _|_|_|_|  _|    _|  _|  _|_|  _|  _|_|    _|    _|  _|  _|  _|  _|_|      _|_|_|    _|_|_|_|  _|        _|_|_|\n",
      "    _|    _|  _|    _|  _|    _|  _|    _|    _|    _|    _|_|  _|    _|      _|        _|    _|  _|        _|\n",
      "    _|    _|    _|_|      _|_|_|    _|_|_|  _|_|_|  _|      _|    _|_|_|      _|        _|    _|    _|_|_|  _|_|_|_|\n",
      "\n",
      "    A token is already saved on your machine. Run `huggingface-cli whoami` to get more information or `huggingface-cli logout` if you want to log out.\n",
      "    Setting a new token will erase the existing one.\n",
      "    To log in, `huggingface_hub` requires a token generated from https://huggingface.co/settings/tokens .\n",
      "Enter your token (input will not be visible): \n",
      "Add token as git credential? (Y/n) n\n",
      "Token is valid (permission: read).\n",
      "The token `read1` has been saved to /root/.cache/huggingface/stored_tokens\n",
      "Your token has been saved to /root/.cache/huggingface/token\n",
      "Login successful.\n",
      "The current active token is: `read1`\n"
     ]
    }
   ],
   "source": [
    "!huggingface-cli login"
   ]
  },
  {
   "cell_type": "code",
   "execution_count": null,
   "metadata": {
    "id": "Rg2H0ysvlINy"
   },
   "outputs": [],
   "source": []
  },
  {
   "cell_type": "code",
   "execution_count": null,
   "metadata": {
    "colab": {
     "base_uri": "https://localhost:8080/",
     "height": 1000
    },
    "id": "091b9480",
    "outputId": "b65b173f-fe17-4fc4-a200-19469f3fc339"
   },
   "outputs": [
    {
     "data": {
      "text/html": [
       "<pre style=\"white-space:pre;overflow-x:auto;line-height:normal;font-family:Menlo,'DejaVu Sans Mono',consolas,'Courier New',monospace\"><span style=\"color: #000080; text-decoration-color: #000080\">INFO    </span> <span style=\"color: #008080; text-decoration-color: #008080; font-weight: bold\">2025</span>-<span style=\"color: #008080; text-decoration-color: #008080; font-weight: bold\">06</span>-<span style=\"color: #008080; text-decoration-color: #008080; font-weight: bold\">09</span> <span style=\"color: #00ff00; text-decoration-color: #00ff00; font-weight: bold\">12:55:02</span>,<span style=\"color: #008080; text-decoration-color: #008080; font-weight: bold\">639</span> infinity_emb INFO: Started Background Event Loop                 <a href=\"file:///usr/local/lib/python3.11/dist-packages/infinity_emb/sync_engine.py\" target=\"_blank\"><span style=\"color: #7f7f7f; text-decoration-color: #7f7f7f\">sync_engine.py</span></a><span style=\"color: #7f7f7f; text-decoration-color: #7f7f7f\">:</span><a href=\"file:///usr/local/lib/python3.11/dist-packages/infinity_emb/sync_engine.py#57\" target=\"_blank\"><span style=\"color: #7f7f7f; text-decoration-color: #7f7f7f\">57</span></a>\n",
       "</pre>\n"
      ],
      "text/plain": [
       "\u001b[34mINFO    \u001b[0m \u001b[1;36m2025\u001b[0m-\u001b[1;36m06\u001b[0m-\u001b[1;36m09\u001b[0m \u001b[1;92m12:55:02\u001b[0m,\u001b[1;36m639\u001b[0m infinity_emb INFO: Started Background Event Loop                 \u001b]8;id=492188;file:///usr/local/lib/python3.11/dist-packages/infinity_emb/sync_engine.py\u001b\\\u001b[2msync_engine.py\u001b[0m\u001b]8;;\u001b\\\u001b[2m:\u001b[0m\u001b]8;id=397844;file:///usr/local/lib/python3.11/dist-packages/infinity_emb/sync_engine.py#57\u001b\\\u001b[2m57\u001b[0m\u001b]8;;\u001b\\\n"
      ]
     },
     "metadata": {},
     "output_type": "display_data"
    },
    {
     "data": {
      "text/html": [
       "<pre style=\"white-space:pre;overflow-x:auto;line-height:normal;font-family:Menlo,'DejaVu Sans Mono',consolas,'Courier New',monospace\"><span style=\"color: #000080; text-decoration-color: #000080\">INFO    </span> <span style=\"color: #008080; text-decoration-color: #008080; font-weight: bold\">2025</span>-<span style=\"color: #008080; text-decoration-color: #008080; font-weight: bold\">06</span>-<span style=\"color: #008080; text-decoration-color: #008080; font-weight: bold\">09</span> <span style=\"color: #00ff00; text-decoration-color: #00ff00; font-weight: bold\">12:55:02</span>,<span style=\"color: #008080; text-decoration-color: #008080; font-weight: bold\">646</span> infinity_emb INFO: <span style=\"color: #808000; text-decoration-color: #808000\">model</span>=`jinaai/jina-embeddings-v2-base-code`  <a href=\"file:///usr/local/lib/python3.11/dist-packages/infinity_emb/inference/select_model.py\" target=\"_blank\"><span style=\"color: #7f7f7f; text-decoration-color: #7f7f7f\">select_model.py</span></a><span style=\"color: #7f7f7f; text-decoration-color: #7f7f7f\">:</span><a href=\"file:///usr/local/lib/python3.11/dist-packages/infinity_emb/inference/select_model.py#66\" target=\"_blank\"><span style=\"color: #7f7f7f; text-decoration-color: #7f7f7f\">66</span></a>\n",
       "         selected, using <span style=\"color: #808000; text-decoration-color: #808000\">engine</span>=`torch` and <span style=\"color: #808000; text-decoration-color: #808000\">device</span>=`cuda`                                        <span style=\"color: #7f7f7f; text-decoration-color: #7f7f7f\">                  </span>\n",
       "</pre>\n"
      ],
      "text/plain": [
       "\u001b[34mINFO    \u001b[0m \u001b[1;36m2025\u001b[0m-\u001b[1;36m06\u001b[0m-\u001b[1;36m09\u001b[0m \u001b[1;92m12:55:02\u001b[0m,\u001b[1;36m646\u001b[0m infinity_emb INFO: \u001b[33mmodel\u001b[0m=`jinaai/jina-embeddings-v2-base-code`  \u001b]8;id=855015;file:///usr/local/lib/python3.11/dist-packages/infinity_emb/inference/select_model.py\u001b\\\u001b[2mselect_model.py\u001b[0m\u001b]8;;\u001b\\\u001b[2m:\u001b[0m\u001b]8;id=431852;file:///usr/local/lib/python3.11/dist-packages/infinity_emb/inference/select_model.py#66\u001b\\\u001b[2m66\u001b[0m\u001b]8;;\u001b\\\n",
       "         selected, using \u001b[33mengine\u001b[0m=`torch` and \u001b[33mdevice\u001b[0m=`cuda`                                        \u001b[2m                  \u001b[0m\n"
      ]
     },
     "metadata": {},
     "output_type": "display_data"
    },
    {
     "data": {
      "text/html": [
       "<pre style=\"white-space:pre;overflow-x:auto;line-height:normal;font-family:Menlo,'DejaVu Sans Mono',consolas,'Courier New',monospace\"><span style=\"color: #000080; text-decoration-color: #000080\">INFO    </span> <span style=\"color: #008080; text-decoration-color: #008080; font-weight: bold\">2025</span>-<span style=\"color: #008080; text-decoration-color: #008080; font-weight: bold\">06</span>-<span style=\"color: #008080; text-decoration-color: #008080; font-weight: bold\">09</span> <span style=\"color: #00ff00; text-decoration-color: #00ff00; font-weight: bold\">12:55:02</span>,<span style=\"color: #008080; text-decoration-color: #008080; font-weight: bold\">706</span> sentence_transformers.SentenceTransformer INFO: Load    <a href=\"file:///usr/local/lib/python3.11/dist-packages/sentence_transformers/SentenceTransformer.py\" target=\"_blank\"><span style=\"color: #7f7f7f; text-decoration-color: #7f7f7f\">SentenceTransformer.py</span></a><span style=\"color: #7f7f7f; text-decoration-color: #7f7f7f\">:</span><a href=\"file:///usr/local/lib/python3.11/dist-packages/sentence_transformers/SentenceTransformer.py#218\" target=\"_blank\"><span style=\"color: #7f7f7f; text-decoration-color: #7f7f7f\">218</span></a>\n",
       "         pretrained SentenceTransformer: jinaai/jina-embeddings-v2-base-code             <span style=\"color: #7f7f7f; text-decoration-color: #7f7f7f\">                          </span>\n",
       "</pre>\n"
      ],
      "text/plain": [
       "\u001b[34mINFO    \u001b[0m \u001b[1;36m2025\u001b[0m-\u001b[1;36m06\u001b[0m-\u001b[1;36m09\u001b[0m \u001b[1;92m12:55:02\u001b[0m,\u001b[1;36m706\u001b[0m sentence_transformers.SentenceTransformer INFO: Load    \u001b]8;id=213408;file:///usr/local/lib/python3.11/dist-packages/sentence_transformers/SentenceTransformer.py\u001b\\\u001b[2mSentenceTransformer.py\u001b[0m\u001b]8;;\u001b\\\u001b[2m:\u001b[0m\u001b]8;id=263057;file:///usr/local/lib/python3.11/dist-packages/sentence_transformers/SentenceTransformer.py#218\u001b\\\u001b[2m218\u001b[0m\u001b]8;;\u001b\\\n",
       "         pretrained SentenceTransformer: jinaai/jina-embeddings-v2-base-code             \u001b[2m                          \u001b[0m\n"
      ]
     },
     "metadata": {},
     "output_type": "display_data"
    },
    {
     "data": {
      "text/html": [
       "<pre style=\"white-space:pre;overflow-x:auto;line-height:normal;font-family:Menlo,'DejaVu Sans Mono',consolas,'Courier New',monospace\"><span style=\"color: #000080; text-decoration-color: #000080\">INFO    </span> <span style=\"color: #008080; text-decoration-color: #008080; font-weight: bold\">2025</span>-<span style=\"color: #008080; text-decoration-color: #008080; font-weight: bold\">06</span>-<span style=\"color: #008080; text-decoration-color: #008080; font-weight: bold\">09</span> <span style=\"color: #00ff00; text-decoration-color: #00ff00; font-weight: bold\">12:55:04</span>,<span style=\"color: #008080; text-decoration-color: #008080; font-weight: bold\">122</span> infinity_emb INFO: Closed Background Event Loop                  <a href=\"file:///usr/local/lib/python3.11/dist-packages/infinity_emb/sync_engine.py\" target=\"_blank\"><span style=\"color: #7f7f7f; text-decoration-color: #7f7f7f\">sync_engine.py</span></a><span style=\"color: #7f7f7f; text-decoration-color: #7f7f7f\">:</span><a href=\"file:///usr/local/lib/python3.11/dist-packages/infinity_emb/sync_engine.py#65\" target=\"_blank\"><span style=\"color: #7f7f7f; text-decoration-color: #7f7f7f\">65</span></a>\n",
       "</pre>\n"
      ],
      "text/plain": [
       "\u001b[34mINFO    \u001b[0m \u001b[1;36m2025\u001b[0m-\u001b[1;36m06\u001b[0m-\u001b[1;36m09\u001b[0m \u001b[1;92m12:55:04\u001b[0m,\u001b[1;36m122\u001b[0m infinity_emb INFO: Closed Background Event Loop                  \u001b]8;id=374771;file:///usr/local/lib/python3.11/dist-packages/infinity_emb/sync_engine.py\u001b\\\u001b[2msync_engine.py\u001b[0m\u001b]8;;\u001b\\\u001b[2m:\u001b[0m\u001b]8;id=240528;file:///usr/local/lib/python3.11/dist-packages/infinity_emb/sync_engine.py#65\u001b\\\u001b[2m65\u001b[0m\u001b]8;;\u001b\\\n"
      ]
     },
     "metadata": {},
     "output_type": "display_data"
    },
    {
     "data": {
      "text/html": [
       "<pre style=\"white-space:pre;overflow-x:auto;line-height:normal;font-family:Menlo,'DejaVu Sans Mono',consolas,'Courier New',monospace\"><span style=\"color: #000080; text-decoration-color: #000080\">INFO    </span> <span style=\"color: #008080; text-decoration-color: #008080; font-weight: bold\">2025</span>-<span style=\"color: #008080; text-decoration-color: #008080; font-weight: bold\">06</span>-<span style=\"color: #008080; text-decoration-color: #008080; font-weight: bold\">09</span> <span style=\"color: #00ff00; text-decoration-color: #00ff00; font-weight: bold\">12:55:04</span>,<span style=\"color: #008080; text-decoration-color: #008080; font-weight: bold\">222</span> infinity_emb INFO: Closed Background Event Loop                  <a href=\"file:///usr/local/lib/python3.11/dist-packages/infinity_emb/sync_engine.py\" target=\"_blank\"><span style=\"color: #7f7f7f; text-decoration-color: #7f7f7f\">sync_engine.py</span></a><span style=\"color: #7f7f7f; text-decoration-color: #7f7f7f\">:</span><a href=\"file:///usr/local/lib/python3.11/dist-packages/infinity_emb/sync_engine.py#65\" target=\"_blank\"><span style=\"color: #7f7f7f; text-decoration-color: #7f7f7f\">65</span></a>\n",
       "</pre>\n"
      ],
      "text/plain": [
       "\u001b[34mINFO    \u001b[0m \u001b[1;36m2025\u001b[0m-\u001b[1;36m06\u001b[0m-\u001b[1;36m09\u001b[0m \u001b[1;92m12:55:04\u001b[0m,\u001b[1;36m222\u001b[0m infinity_emb INFO: Closed Background Event Loop                  \u001b]8;id=459279;file:///usr/local/lib/python3.11/dist-packages/infinity_emb/sync_engine.py\u001b\\\u001b[2msync_engine.py\u001b[0m\u001b]8;;\u001b\\\u001b[2m:\u001b[0m\u001b]8;id=44308;file:///usr/local/lib/python3.11/dist-packages/infinity_emb/sync_engine.py#65\u001b\\\u001b[2m65\u001b[0m\u001b]8;;\u001b\\\n"
      ]
     },
     "metadata": {},
     "output_type": "display_data"
    },
    {
     "data": {
      "text/html": [
       "<pre style=\"white-space:pre;overflow-x:auto;line-height:normal;font-family:Menlo,'DejaVu Sans Mono',consolas,'Courier New',monospace\"><span style=\"color: #000080; text-decoration-color: #000080\">INFO    </span> <span style=\"color: #008080; text-decoration-color: #008080; font-weight: bold\">2025</span>-<span style=\"color: #008080; text-decoration-color: #008080; font-weight: bold\">06</span>-<span style=\"color: #008080; text-decoration-color: #008080; font-weight: bold\">09</span> <span style=\"color: #00ff00; text-decoration-color: #00ff00; font-weight: bold\">12:55:04</span>,<span style=\"color: #008080; text-decoration-color: #008080; font-weight: bold\">322</span> infinity_emb INFO: Closed Background Event Loop                  <a href=\"file:///usr/local/lib/python3.11/dist-packages/infinity_emb/sync_engine.py\" target=\"_blank\"><span style=\"color: #7f7f7f; text-decoration-color: #7f7f7f\">sync_engine.py</span></a><span style=\"color: #7f7f7f; text-decoration-color: #7f7f7f\">:</span><a href=\"file:///usr/local/lib/python3.11/dist-packages/infinity_emb/sync_engine.py#65\" target=\"_blank\"><span style=\"color: #7f7f7f; text-decoration-color: #7f7f7f\">65</span></a>\n",
       "</pre>\n"
      ],
      "text/plain": [
       "\u001b[34mINFO    \u001b[0m \u001b[1;36m2025\u001b[0m-\u001b[1;36m06\u001b[0m-\u001b[1;36m09\u001b[0m \u001b[1;92m12:55:04\u001b[0m,\u001b[1;36m322\u001b[0m infinity_emb INFO: Closed Background Event Loop                  \u001b]8;id=726111;file:///usr/local/lib/python3.11/dist-packages/infinity_emb/sync_engine.py\u001b\\\u001b[2msync_engine.py\u001b[0m\u001b]8;;\u001b\\\u001b[2m:\u001b[0m\u001b]8;id=864594;file:///usr/local/lib/python3.11/dist-packages/infinity_emb/sync_engine.py#65\u001b\\\u001b[2m65\u001b[0m\u001b]8;;\u001b\\\n"
      ]
     },
     "metadata": {},
     "output_type": "display_data"
    },
    {
     "data": {
      "text/html": [
       "<pre style=\"white-space:pre;overflow-x:auto;line-height:normal;font-family:Menlo,'DejaVu Sans Mono',consolas,'Courier New',monospace\"><span style=\"color: #000080; text-decoration-color: #000080\">INFO    </span> <span style=\"color: #008080; text-decoration-color: #008080; font-weight: bold\">2025</span>-<span style=\"color: #008080; text-decoration-color: #008080; font-weight: bold\">06</span>-<span style=\"color: #008080; text-decoration-color: #008080; font-weight: bold\">09</span> <span style=\"color: #00ff00; text-decoration-color: #00ff00; font-weight: bold\">12:55:04</span>,<span style=\"color: #008080; text-decoration-color: #008080; font-weight: bold\">423</span> infinity_emb INFO: Closed Background Event Loop                  <a href=\"file:///usr/local/lib/python3.11/dist-packages/infinity_emb/sync_engine.py\" target=\"_blank\"><span style=\"color: #7f7f7f; text-decoration-color: #7f7f7f\">sync_engine.py</span></a><span style=\"color: #7f7f7f; text-decoration-color: #7f7f7f\">:</span><a href=\"file:///usr/local/lib/python3.11/dist-packages/infinity_emb/sync_engine.py#65\" target=\"_blank\"><span style=\"color: #7f7f7f; text-decoration-color: #7f7f7f\">65</span></a>\n",
       "</pre>\n"
      ],
      "text/plain": [
       "\u001b[34mINFO    \u001b[0m \u001b[1;36m2025\u001b[0m-\u001b[1;36m06\u001b[0m-\u001b[1;36m09\u001b[0m \u001b[1;92m12:55:04\u001b[0m,\u001b[1;36m423\u001b[0m infinity_emb INFO: Closed Background Event Loop                  \u001b]8;id=729765;file:///usr/local/lib/python3.11/dist-packages/infinity_emb/sync_engine.py\u001b\\\u001b[2msync_engine.py\u001b[0m\u001b]8;;\u001b\\\u001b[2m:\u001b[0m\u001b]8;id=203274;file:///usr/local/lib/python3.11/dist-packages/infinity_emb/sync_engine.py#65\u001b\\\u001b[2m65\u001b[0m\u001b]8;;\u001b\\\n"
      ]
     },
     "metadata": {},
     "output_type": "display_data"
    },
    {
     "data": {
      "text/html": [
       "<pre style=\"white-space:pre;overflow-x:auto;line-height:normal;font-family:Menlo,'DejaVu Sans Mono',consolas,'Courier New',monospace\"><span style=\"color: #000080; text-decoration-color: #000080\">INFO    </span> <span style=\"color: #008080; text-decoration-color: #008080; font-weight: bold\">2025</span>-<span style=\"color: #008080; text-decoration-color: #008080; font-weight: bold\">06</span>-<span style=\"color: #008080; text-decoration-color: #008080; font-weight: bold\">09</span> <span style=\"color: #00ff00; text-decoration-color: #00ff00; font-weight: bold\">12:55:04</span>,<span style=\"color: #008080; text-decoration-color: #008080; font-weight: bold\">523</span> infinity_emb INFO: Closed Background Event Loop                  <a href=\"file:///usr/local/lib/python3.11/dist-packages/infinity_emb/sync_engine.py\" target=\"_blank\"><span style=\"color: #7f7f7f; text-decoration-color: #7f7f7f\">sync_engine.py</span></a><span style=\"color: #7f7f7f; text-decoration-color: #7f7f7f\">:</span><a href=\"file:///usr/local/lib/python3.11/dist-packages/infinity_emb/sync_engine.py#65\" target=\"_blank\"><span style=\"color: #7f7f7f; text-decoration-color: #7f7f7f\">65</span></a>\n",
       "</pre>\n"
      ],
      "text/plain": [
       "\u001b[34mINFO    \u001b[0m \u001b[1;36m2025\u001b[0m-\u001b[1;36m06\u001b[0m-\u001b[1;36m09\u001b[0m \u001b[1;92m12:55:04\u001b[0m,\u001b[1;36m523\u001b[0m infinity_emb INFO: Closed Background Event Loop                  \u001b]8;id=446998;file:///usr/local/lib/python3.11/dist-packages/infinity_emb/sync_engine.py\u001b\\\u001b[2msync_engine.py\u001b[0m\u001b]8;;\u001b\\\u001b[2m:\u001b[0m\u001b]8;id=230816;file:///usr/local/lib/python3.11/dist-packages/infinity_emb/sync_engine.py#65\u001b\\\u001b[2m65\u001b[0m\u001b]8;;\u001b\\\n"
      ]
     },
     "metadata": {},
     "output_type": "display_data"
    },
    {
     "data": {
      "text/html": [
       "<pre style=\"white-space:pre;overflow-x:auto;line-height:normal;font-family:Menlo,'DejaVu Sans Mono',consolas,'Courier New',monospace\"><span style=\"color: #000080; text-decoration-color: #000080\">INFO    </span> <span style=\"color: #008080; text-decoration-color: #008080; font-weight: bold\">2025</span>-<span style=\"color: #008080; text-decoration-color: #008080; font-weight: bold\">06</span>-<span style=\"color: #008080; text-decoration-color: #008080; font-weight: bold\">09</span> <span style=\"color: #00ff00; text-decoration-color: #00ff00; font-weight: bold\">12:55:04</span>,<span style=\"color: #008080; text-decoration-color: #008080; font-weight: bold\">623</span> infinity_emb INFO: Closed Background Event Loop                  <a href=\"file:///usr/local/lib/python3.11/dist-packages/infinity_emb/sync_engine.py\" target=\"_blank\"><span style=\"color: #7f7f7f; text-decoration-color: #7f7f7f\">sync_engine.py</span></a><span style=\"color: #7f7f7f; text-decoration-color: #7f7f7f\">:</span><a href=\"file:///usr/local/lib/python3.11/dist-packages/infinity_emb/sync_engine.py#65\" target=\"_blank\"><span style=\"color: #7f7f7f; text-decoration-color: #7f7f7f\">65</span></a>\n",
       "</pre>\n"
      ],
      "text/plain": [
       "\u001b[34mINFO    \u001b[0m \u001b[1;36m2025\u001b[0m-\u001b[1;36m06\u001b[0m-\u001b[1;36m09\u001b[0m \u001b[1;92m12:55:04\u001b[0m,\u001b[1;36m623\u001b[0m infinity_emb INFO: Closed Background Event Loop                  \u001b]8;id=717679;file:///usr/local/lib/python3.11/dist-packages/infinity_emb/sync_engine.py\u001b\\\u001b[2msync_engine.py\u001b[0m\u001b]8;;\u001b\\\u001b[2m:\u001b[0m\u001b]8;id=902617;file:///usr/local/lib/python3.11/dist-packages/infinity_emb/sync_engine.py#65\u001b\\\u001b[2m65\u001b[0m\u001b]8;;\u001b\\\n"
      ]
     },
     "metadata": {},
     "output_type": "display_data"
    },
    {
     "data": {
      "text/html": [
       "<pre style=\"white-space:pre;overflow-x:auto;line-height:normal;font-family:Menlo,'DejaVu Sans Mono',consolas,'Courier New',monospace\"><span style=\"color: #000080; text-decoration-color: #000080\">INFO    </span> <span style=\"color: #008080; text-decoration-color: #008080; font-weight: bold\">2025</span>-<span style=\"color: #008080; text-decoration-color: #008080; font-weight: bold\">06</span>-<span style=\"color: #008080; text-decoration-color: #008080; font-weight: bold\">09</span> <span style=\"color: #00ff00; text-decoration-color: #00ff00; font-weight: bold\">12:55:04</span>,<span style=\"color: #008080; text-decoration-color: #008080; font-weight: bold\">723</span> infinity_emb INFO: Closed Background Event Loop                  <a href=\"file:///usr/local/lib/python3.11/dist-packages/infinity_emb/sync_engine.py\" target=\"_blank\"><span style=\"color: #7f7f7f; text-decoration-color: #7f7f7f\">sync_engine.py</span></a><span style=\"color: #7f7f7f; text-decoration-color: #7f7f7f\">:</span><a href=\"file:///usr/local/lib/python3.11/dist-packages/infinity_emb/sync_engine.py#65\" target=\"_blank\"><span style=\"color: #7f7f7f; text-decoration-color: #7f7f7f\">65</span></a>\n",
       "</pre>\n"
      ],
      "text/plain": [
       "\u001b[34mINFO    \u001b[0m \u001b[1;36m2025\u001b[0m-\u001b[1;36m06\u001b[0m-\u001b[1;36m09\u001b[0m \u001b[1;92m12:55:04\u001b[0m,\u001b[1;36m723\u001b[0m infinity_emb INFO: Closed Background Event Loop                  \u001b]8;id=744794;file:///usr/local/lib/python3.11/dist-packages/infinity_emb/sync_engine.py\u001b\\\u001b[2msync_engine.py\u001b[0m\u001b]8;;\u001b\\\u001b[2m:\u001b[0m\u001b]8;id=453526;file:///usr/local/lib/python3.11/dist-packages/infinity_emb/sync_engine.py#65\u001b\\\u001b[2m65\u001b[0m\u001b]8;;\u001b\\\n"
      ]
     },
     "metadata": {},
     "output_type": "display_data"
    },
    {
     "data": {
      "text/html": [
       "<pre style=\"white-space:pre;overflow-x:auto;line-height:normal;font-family:Menlo,'DejaVu Sans Mono',consolas,'Courier New',monospace\"><span style=\"color: #000080; text-decoration-color: #000080\">INFO    </span> <span style=\"color: #008080; text-decoration-color: #008080; font-weight: bold\">2025</span>-<span style=\"color: #008080; text-decoration-color: #008080; font-weight: bold\">06</span>-<span style=\"color: #008080; text-decoration-color: #008080; font-weight: bold\">09</span> <span style=\"color: #00ff00; text-decoration-color: #00ff00; font-weight: bold\">12:55:04</span>,<span style=\"color: #008080; text-decoration-color: #008080; font-weight: bold\">823</span> infinity_emb INFO: Closed Background Event Loop                  <a href=\"file:///usr/local/lib/python3.11/dist-packages/infinity_emb/sync_engine.py\" target=\"_blank\"><span style=\"color: #7f7f7f; text-decoration-color: #7f7f7f\">sync_engine.py</span></a><span style=\"color: #7f7f7f; text-decoration-color: #7f7f7f\">:</span><a href=\"file:///usr/local/lib/python3.11/dist-packages/infinity_emb/sync_engine.py#65\" target=\"_blank\"><span style=\"color: #7f7f7f; text-decoration-color: #7f7f7f\">65</span></a>\n",
       "</pre>\n"
      ],
      "text/plain": [
       "\u001b[34mINFO    \u001b[0m \u001b[1;36m2025\u001b[0m-\u001b[1;36m06\u001b[0m-\u001b[1;36m09\u001b[0m \u001b[1;92m12:55:04\u001b[0m,\u001b[1;36m823\u001b[0m infinity_emb INFO: Closed Background Event Loop                  \u001b]8;id=547370;file:///usr/local/lib/python3.11/dist-packages/infinity_emb/sync_engine.py\u001b\\\u001b[2msync_engine.py\u001b[0m\u001b]8;;\u001b\\\u001b[2m:\u001b[0m\u001b]8;id=422326;file:///usr/local/lib/python3.11/dist-packages/infinity_emb/sync_engine.py#65\u001b\\\u001b[2m65\u001b[0m\u001b]8;;\u001b\\\n"
      ]
     },
     "metadata": {},
     "output_type": "display_data"
    },
    {
     "data": {
      "text/html": [
       "<pre style=\"white-space:pre;overflow-x:auto;line-height:normal;font-family:Menlo,'DejaVu Sans Mono',consolas,'Courier New',monospace\"><span style=\"color: #000080; text-decoration-color: #000080\">INFO    </span> <span style=\"color: #008080; text-decoration-color: #008080; font-weight: bold\">2025</span>-<span style=\"color: #008080; text-decoration-color: #008080; font-weight: bold\">06</span>-<span style=\"color: #008080; text-decoration-color: #008080; font-weight: bold\">09</span> <span style=\"color: #00ff00; text-decoration-color: #00ff00; font-weight: bold\">12:55:04</span>,<span style=\"color: #008080; text-decoration-color: #008080; font-weight: bold\">826</span> infinity_emb INFO: Closed Background Event Loop                  <a href=\"file:///usr/local/lib/python3.11/dist-packages/infinity_emb/sync_engine.py\" target=\"_blank\"><span style=\"color: #7f7f7f; text-decoration-color: #7f7f7f\">sync_engine.py</span></a><span style=\"color: #7f7f7f; text-decoration-color: #7f7f7f\">:</span><a href=\"file:///usr/local/lib/python3.11/dist-packages/infinity_emb/sync_engine.py#65\" target=\"_blank\"><span style=\"color: #7f7f7f; text-decoration-color: #7f7f7f\">65</span></a>\n",
       "</pre>\n"
      ],
      "text/plain": [
       "\u001b[34mINFO    \u001b[0m \u001b[1;36m2025\u001b[0m-\u001b[1;36m06\u001b[0m-\u001b[1;36m09\u001b[0m \u001b[1;92m12:55:04\u001b[0m,\u001b[1;36m826\u001b[0m infinity_emb INFO: Closed Background Event Loop                  \u001b]8;id=12604;file:///usr/local/lib/python3.11/dist-packages/infinity_emb/sync_engine.py\u001b\\\u001b[2msync_engine.py\u001b[0m\u001b]8;;\u001b\\\u001b[2m:\u001b[0m\u001b]8;id=306320;file:///usr/local/lib/python3.11/dist-packages/infinity_emb/sync_engine.py#65\u001b\\\u001b[2m65\u001b[0m\u001b]8;;\u001b\\\n"
      ]
     },
     "metadata": {},
     "output_type": "display_data"
    },
    {
     "data": {
      "text/html": [
       "<pre style=\"white-space:pre;overflow-x:auto;line-height:normal;font-family:Menlo,'DejaVu Sans Mono',consolas,'Courier New',monospace\"><span style=\"color: #000080; text-decoration-color: #000080\">INFO    </span> <span style=\"color: #008080; text-decoration-color: #008080; font-weight: bold\">2025</span>-<span style=\"color: #008080; text-decoration-color: #008080; font-weight: bold\">06</span>-<span style=\"color: #008080; text-decoration-color: #008080; font-weight: bold\">09</span> <span style=\"color: #00ff00; text-decoration-color: #00ff00; font-weight: bold\">12:55:04</span>,<span style=\"color: #008080; text-decoration-color: #008080; font-weight: bold\">926</span> infinity_emb INFO: Closed Background Event Loop                  <a href=\"file:///usr/local/lib/python3.11/dist-packages/infinity_emb/sync_engine.py\" target=\"_blank\"><span style=\"color: #7f7f7f; text-decoration-color: #7f7f7f\">sync_engine.py</span></a><span style=\"color: #7f7f7f; text-decoration-color: #7f7f7f\">:</span><a href=\"file:///usr/local/lib/python3.11/dist-packages/infinity_emb/sync_engine.py#65\" target=\"_blank\"><span style=\"color: #7f7f7f; text-decoration-color: #7f7f7f\">65</span></a>\n",
       "</pre>\n"
      ],
      "text/plain": [
       "\u001b[34mINFO    \u001b[0m \u001b[1;36m2025\u001b[0m-\u001b[1;36m06\u001b[0m-\u001b[1;36m09\u001b[0m \u001b[1;92m12:55:04\u001b[0m,\u001b[1;36m926\u001b[0m infinity_emb INFO: Closed Background Event Loop                  \u001b]8;id=662777;file:///usr/local/lib/python3.11/dist-packages/infinity_emb/sync_engine.py\u001b\\\u001b[2msync_engine.py\u001b[0m\u001b]8;;\u001b\\\u001b[2m:\u001b[0m\u001b]8;id=754895;file:///usr/local/lib/python3.11/dist-packages/infinity_emb/sync_engine.py#65\u001b\\\u001b[2m65\u001b[0m\u001b]8;;\u001b\\\n"
      ]
     },
     "metadata": {},
     "output_type": "display_data"
    },
    {
     "data": {
      "text/html": [
       "<pre style=\"white-space:pre;overflow-x:auto;line-height:normal;font-family:Menlo,'DejaVu Sans Mono',consolas,'Courier New',monospace\"><span style=\"color: #000080; text-decoration-color: #000080\">INFO    </span> <span style=\"color: #008080; text-decoration-color: #008080; font-weight: bold\">2025</span>-<span style=\"color: #008080; text-decoration-color: #008080; font-weight: bold\">06</span>-<span style=\"color: #008080; text-decoration-color: #008080; font-weight: bold\">09</span> <span style=\"color: #00ff00; text-decoration-color: #00ff00; font-weight: bold\">12:55:05</span>,<span style=\"color: #008080; text-decoration-color: #008080; font-weight: bold\">026</span> infinity_emb INFO: Closed Background Event Loop                  <a href=\"file:///usr/local/lib/python3.11/dist-packages/infinity_emb/sync_engine.py\" target=\"_blank\"><span style=\"color: #7f7f7f; text-decoration-color: #7f7f7f\">sync_engine.py</span></a><span style=\"color: #7f7f7f; text-decoration-color: #7f7f7f\">:</span><a href=\"file:///usr/local/lib/python3.11/dist-packages/infinity_emb/sync_engine.py#65\" target=\"_blank\"><span style=\"color: #7f7f7f; text-decoration-color: #7f7f7f\">65</span></a>\n",
       "</pre>\n"
      ],
      "text/plain": [
       "\u001b[34mINFO    \u001b[0m \u001b[1;36m2025\u001b[0m-\u001b[1;36m06\u001b[0m-\u001b[1;36m09\u001b[0m \u001b[1;92m12:55:05\u001b[0m,\u001b[1;36m026\u001b[0m infinity_emb INFO: Closed Background Event Loop                  \u001b]8;id=211257;file:///usr/local/lib/python3.11/dist-packages/infinity_emb/sync_engine.py\u001b\\\u001b[2msync_engine.py\u001b[0m\u001b]8;;\u001b\\\u001b[2m:\u001b[0m\u001b]8;id=749939;file:///usr/local/lib/python3.11/dist-packages/infinity_emb/sync_engine.py#65\u001b\\\u001b[2m65\u001b[0m\u001b]8;;\u001b\\\n"
      ]
     },
     "metadata": {},
     "output_type": "display_data"
    },
    {
     "name": "stderr",
     "output_type": "stream",
     "text": [
      "Exception ignored in: <function SyncEngineArray.__del__ at 0x7abf01504ae0>\n",
      "Traceback (most recent call last):\n",
      "  File \"/usr/local/lib/python3.11/dist-packages/infinity_emb/sync_engine.py\", line 222, in __del__\n"
     ]
    },
    {
     "data": {
      "text/html": [
       "<pre style=\"white-space:pre;overflow-x:auto;line-height:normal;font-family:Menlo,'DejaVu Sans Mono',consolas,'Courier New',monospace\"><span style=\"color: #000080; text-decoration-color: #000080\">INFO    </span> <span style=\"color: #008080; text-decoration-color: #008080; font-weight: bold\">2025</span>-<span style=\"color: #008080; text-decoration-color: #008080; font-weight: bold\">06</span>-<span style=\"color: #008080; text-decoration-color: #008080; font-weight: bold\">09</span> <span style=\"color: #00ff00; text-decoration-color: #00ff00; font-weight: bold\">12:55:05</span>,<span style=\"color: #008080; text-decoration-color: #008080; font-weight: bold\">126</span> infinity_emb INFO: Closed Background Event Loop                  <a href=\"file:///usr/local/lib/python3.11/dist-packages/infinity_emb/sync_engine.py\" target=\"_blank\"><span style=\"color: #7f7f7f; text-decoration-color: #7f7f7f\">sync_engine.py</span></a><span style=\"color: #7f7f7f; text-decoration-color: #7f7f7f\">:</span><a href=\"file:///usr/local/lib/python3.11/dist-packages/infinity_emb/sync_engine.py#65\" target=\"_blank\"><span style=\"color: #7f7f7f; text-decoration-color: #7f7f7f\">65</span></a>\n",
       "</pre>\n"
      ],
      "text/plain": [
       "\u001b[34mINFO    \u001b[0m \u001b[1;36m2025\u001b[0m-\u001b[1;36m06\u001b[0m-\u001b[1;36m09\u001b[0m \u001b[1;92m12:55:05\u001b[0m,\u001b[1;36m126\u001b[0m infinity_emb INFO: Closed Background Event Loop                  \u001b]8;id=700623;file:///usr/local/lib/python3.11/dist-packages/infinity_emb/sync_engine.py\u001b\\\u001b[2msync_engine.py\u001b[0m\u001b]8;;\u001b\\\u001b[2m:\u001b[0m\u001b]8;id=86918;file:///usr/local/lib/python3.11/dist-packages/infinity_emb/sync_engine.py#65\u001b\\\u001b[2m65\u001b[0m\u001b]8;;\u001b\\\n"
      ]
     },
     "metadata": {},
     "output_type": "display_data"
    },
    {
     "name": "stderr",
     "output_type": "stream",
     "text": [
      "    self.stop()\n",
      "  File \"/usr/local/lib/python3.11/dist-packages/infinity_emb/sync_engine.py\", line 175, in stop\n",
      "    self.async_run(self.async_engine_array.astop).result()\n",
      "                   ^^^^^^^^^^^^^^^^^^^^^^^\n",
      "AttributeError: 'SyncEngineArray' object has no attribute 'async_engine_array'\n",
      "Exception ignored in: <function SyncEngineArray.__del__ at 0x7abf01504ae0>\n",
      "Traceback (most recent call last):\n",
      "  File \"/usr/local/lib/python3.11/dist-packages/infinity_emb/sync_engine.py\", line 222, in __del__\n",
      "    self.stop()\n",
      "  File \"/usr/local/lib/python3.11/dist-packages/infinity_emb/sync_engine.py\", line 175, in stop\n",
      "    self.async_run(self.async_engine_array.astop).result()\n",
      "                   ^^^^^^^^^^^^^^^^^^^^^^^\n",
      "AttributeError: 'SyncEngineArray' object has no attribute 'async_engine_array'\n",
      "Exception ignored in: <function SyncEngineArray.__del__ at 0x7abf01504ae0>\n",
      "Traceback (most recent call last):\n",
      "  File \"/usr/local/lib/python3.11/dist-packages/infinity_emb/sync_engine.py\", line 222, in __del__\n",
      "    self.stop()\n",
      "  File \"/usr/local/lib/python3.11/dist-packages/infinity_emb/sync_engine.py\", line 175, in stop\n",
      "    self.async_run(self.async_engine_array.astop).result()\n",
      "                   ^^^^^^^^^^^^^^^^^^^^^^^\n",
      "AttributeError: 'SyncEngineArray' object has no attribute 'async_engine_array'\n",
      "Exception ignored in: <function SyncEngineArray.__del__ at 0x7abf01504ae0>\n",
      "Traceback (most recent call last):\n",
      "  File \"/usr/local/lib/python3.11/dist-packages/infinity_emb/sync_engine.py\", line 222, in __del__\n",
      "    self.stop()\n",
      "  File \"/usr/local/lib/python3.11/dist-packages/infinity_emb/sync_engine.py\", line 175, in stop\n",
      "    self.async_run(self.async_engine_array.astop).result()\n",
      "                   ^^^^^^^^^^^^^^^^^^^^^^^\n",
      "AttributeError: 'SyncEngineArray' object has no attribute 'async_engine_array'\n",
      "Exception ignored in: <function SyncEngineArray.__del__ at 0x7abf01504ae0>\n",
      "Traceback (most recent call last):\n",
      "  File \"/usr/local/lib/python3.11/dist-packages/infinity_emb/sync_engine.py\", line 222, in __del__\n",
      "    self.stop()\n",
      "  File \"/usr/local/lib/python3.11/dist-packages/infinity_emb/sync_engine.py\", line 175, in stop\n",
      "    self.async_run(self.async_engine_array.astop).result()\n",
      "                   ^^^^^^^^^^^^^^^^^^^^^^^\n",
      "AttributeError: 'SyncEngineArray' object has no attribute 'async_engine_array'\n",
      "Exception ignored in: <function SyncEngineArray.__del__ at 0x7abf01504ae0>\n",
      "Traceback (most recent call last):\n",
      "  File \"/usr/local/lib/python3.11/dist-packages/infinity_emb/sync_engine.py\", line 222, in __del__\n",
      "    self.stop()\n",
      "  File \"/usr/local/lib/python3.11/dist-packages/infinity_emb/sync_engine.py\", line 175, in stop\n",
      "    self.async_run(self.async_engine_array.astop).result()\n",
      "                   ^^^^^^^^^^^^^^^^^^^^^^^\n",
      "AttributeError: 'SyncEngineArray' object has no attribute 'async_engine_array'\n",
      "Exception ignored in: <function SyncEngineArray.__del__ at 0x7abf01504ae0>\n",
      "Traceback (most recent call last):\n",
      "  File \"/usr/local/lib/python3.11/dist-packages/infinity_emb/sync_engine.py\", line 222, in __del__\n",
      "    self.stop()\n",
      "  File \"/usr/local/lib/python3.11/dist-packages/infinity_emb/sync_engine.py\", line 175, in stop\n",
      "    self.async_run(self.async_engine_array.astop).result()\n",
      "                   ^^^^^^^^^^^^^^^^^^^^^^^\n",
      "AttributeError: 'SyncEngineArray' object has no attribute 'async_engine_array'\n",
      "Exception ignored in: <function SyncEngineArray.__del__ at 0x7abf01504ae0>\n",
      "Traceback (most recent call last):\n",
      "  File \"/usr/local/lib/python3.11/dist-packages/infinity_emb/sync_engine.py\", line 222, in __del__\n",
      "    self.stop()\n",
      "  File \"/usr/local/lib/python3.11/dist-packages/infinity_emb/sync_engine.py\", line 175, in stop\n",
      "    self.async_run(self.async_engine_array.astop).result()\n",
      "                   ^^^^^^^^^^^^^^^^^^^^^^^\n",
      "AttributeError: 'SyncEngineArray' object has no attribute 'async_engine_array'\n",
      "Exception ignored in: <function SyncEngineArray.__del__ at 0x7abf01504ae0>\n",
      "Traceback (most recent call last):\n",
      "  File \"/usr/local/lib/python3.11/dist-packages/infinity_emb/sync_engine.py\", line 222, in __del__\n",
      "    self.stop()\n",
      "  File \"/usr/local/lib/python3.11/dist-packages/infinity_emb/sync_engine.py\", line 175, in stop\n",
      "    self.async_run(self.async_engine_array.astop).result()\n",
      "                   ^^^^^^^^^^^^^^^^^^^^^^^\n",
      "AttributeError: 'SyncEngineArray' object has no attribute 'async_engine_array'\n",
      "Exception ignored in: <function SyncEngineArray.__del__ at 0x7abf01504ae0>\n",
      "Traceback (most recent call last):\n",
      "  File \"/usr/local/lib/python3.11/dist-packages/infinity_emb/sync_engine.py\", line 222, in __del__\n",
      "    self.stop()\n",
      "  File \"/usr/local/lib/python3.11/dist-packages/infinity_emb/sync_engine.py\", line 175, in stop\n",
      "    self.async_run(self.async_engine_array.astop).result()\n",
      "                   ^^^^^^^^^^^^^^^^^^^^^^^\n",
      "AttributeError: 'SyncEngineArray' object has no attribute 'async_engine_array'\n",
      "Exception ignored in: <function SyncEngineArray.__del__ at 0x7abf01504ae0>\n",
      "Traceback (most recent call last):\n",
      "  File \"/usr/local/lib/python3.11/dist-packages/infinity_emb/sync_engine.py\", line 222, in __del__\n",
      "    self.stop()\n",
      "  File \"/usr/local/lib/python3.11/dist-packages/infinity_emb/sync_engine.py\", line 175, in stop\n",
      "    self.async_run(self.async_engine_array.astop).result()\n",
      "                   ^^^^^^^^^^^^^^^^^^^^^^^\n",
      "AttributeError: 'SyncEngineArray' object has no attribute 'async_engine_array'\n",
      "Exception ignored in: <function SyncEngineArray.__del__ at 0x7abf01504ae0>\n",
      "Traceback (most recent call last):\n",
      "  File \"/usr/local/lib/python3.11/dist-packages/infinity_emb/sync_engine.py\", line 222, in __del__\n",
      "    self.stop()\n",
      "  File \"/usr/local/lib/python3.11/dist-packages/infinity_emb/sync_engine.py\", line 175, in stop\n",
      "    self.async_run(self.async_engine_array.astop).result()\n",
      "                   ^^^^^^^^^^^^^^^^^^^^^^^\n",
      "AttributeError: 'SyncEngineArray' object has no attribute 'async_engine_array'\n"
     ]
    },
    {
     "data": {
      "text/html": [
       "<pre style=\"white-space:pre;overflow-x:auto;line-height:normal;font-family:Menlo,'DejaVu Sans Mono',consolas,'Courier New',monospace\"><span style=\"color: #000080; text-decoration-color: #000080\">INFO    </span> <span style=\"color: #008080; text-decoration-color: #008080; font-weight: bold\">2025</span>-<span style=\"color: #008080; text-decoration-color: #008080; font-weight: bold\">06</span>-<span style=\"color: #008080; text-decoration-color: #008080; font-weight: bold\">09</span> <span style=\"color: #00ff00; text-decoration-color: #00ff00; font-weight: bold\">12:55:06</span>,<span style=\"color: #008080; text-decoration-color: #008080; font-weight: bold\">907</span> infinity_emb INFO: Adding optimizations via Huggingface         <a href=\"file:///usr/local/lib/python3.11/dist-packages/infinity_emb/transformer/acceleration.py\" target=\"_blank\"><span style=\"color: #7f7f7f; text-decoration-color: #7f7f7f\">acceleration.py</span></a><span style=\"color: #7f7f7f; text-decoration-color: #7f7f7f\">:</span><a href=\"file:///usr/local/lib/python3.11/dist-packages/infinity_emb/transformer/acceleration.py#58\" target=\"_blank\"><span style=\"color: #7f7f7f; text-decoration-color: #7f7f7f\">58</span></a>\n",
       "         optimum.                                                                                <span style=\"color: #7f7f7f; text-decoration-color: #7f7f7f\">                  </span>\n",
       "</pre>\n"
      ],
      "text/plain": [
       "\u001b[34mINFO    \u001b[0m \u001b[1;36m2025\u001b[0m-\u001b[1;36m06\u001b[0m-\u001b[1;36m09\u001b[0m \u001b[1;92m12:55:06\u001b[0m,\u001b[1;36m907\u001b[0m infinity_emb INFO: Adding optimizations via Huggingface         \u001b]8;id=434597;file:///usr/local/lib/python3.11/dist-packages/infinity_emb/transformer/acceleration.py\u001b\\\u001b[2macceleration.py\u001b[0m\u001b]8;;\u001b\\\u001b[2m:\u001b[0m\u001b]8;id=451876;file:///usr/local/lib/python3.11/dist-packages/infinity_emb/transformer/acceleration.py#58\u001b\\\u001b[2m58\u001b[0m\u001b]8;;\u001b\\\n",
       "         optimum.                                                                                \u001b[2m                  \u001b[0m\n"
      ]
     },
     "metadata": {},
     "output_type": "display_data"
    },
    {
     "name": "stderr",
     "output_type": "stream",
     "text": [
      "The class `optimum.bettertransformers.transformation.BetterTransformer` is deprecated and will be removed in optimum v2.0.\n"
     ]
    },
    {
     "data": {
      "text/html": [
       "<pre style=\"white-space:pre;overflow-x:auto;line-height:normal;font-family:Menlo,'DejaVu Sans Mono',consolas,'Courier New',monospace\"><span style=\"color: #800000; text-decoration-color: #800000; font-weight: bold\">ERROR   </span> <span style=\"color: #008080; text-decoration-color: #008080; font-weight: bold\">2025</span>-<span style=\"color: #008080; text-decoration-color: #008080; font-weight: bold\">06</span>-<span style=\"color: #008080; text-decoration-color: #008080; font-weight: bold\">09</span> <span style=\"color: #00ff00; text-decoration-color: #00ff00; font-weight: bold\">12:55:06</span>,<span style=\"color: #008080; text-decoration-color: #008080; font-weight: bold\">914</span> infinity_emb ERROR: BetterTransformer is not available for      <a href=\"file:///usr/local/lib/python3.11/dist-packages/infinity_emb/transformer/acceleration.py\" target=\"_blank\"><span style=\"color: #7f7f7f; text-decoration-color: #7f7f7f\">acceleration.py</span></a><span style=\"color: #7f7f7f; text-decoration-color: #7f7f7f\">:</span><a href=\"file:///usr/local/lib/python3.11/dist-packages/infinity_emb/transformer/acceleration.py#64\" target=\"_blank\"><span style=\"color: #7f7f7f; text-decoration-color: #7f7f7f\">64</span></a>\n",
       "         model: <span style=\"font-weight: bold\">&lt;</span><span style=\"color: #ff00ff; text-decoration-color: #ff00ff; font-weight: bold\">class</span><span style=\"color: #000000; text-decoration-color: #000000\"> </span>                                                                          <span style=\"color: #7f7f7f; text-decoration-color: #7f7f7f\">                  </span>\n",
       "         <span style=\"color: #008000; text-decoration-color: #008000\">'transformers_modules.jinaai.jina-bert-v2-qk-post-norm.3baf9e3ac750e76e8edd301917017688</span> <span style=\"color: #7f7f7f; text-decoration-color: #7f7f7f\">                  </span>\n",
       "         <span style=\"color: #008000; text-decoration-color: #008000\">4695fb94.modeling_bert.JinaBertModel'</span><span style=\"font-weight: bold\">&gt;</span> The transformation of the model JinaBertModel to <span style=\"color: #7f7f7f; text-decoration-color: #7f7f7f\">                  </span>\n",
       "         BetterTransformer failed while it should not. Please fill a bug report or open a PR to  <span style=\"color: #7f7f7f; text-decoration-color: #7f7f7f\">                  </span>\n",
       "         support this model at <span style=\"color: #0000ff; text-decoration-color: #0000ff; text-decoration: underline\">https://github.com/huggingface/optimum/.</span> Continue without         <span style=\"color: #7f7f7f; text-decoration-color: #7f7f7f\">                  </span>\n",
       "         bettertransformer modeling code.                                                        <span style=\"color: #7f7f7f; text-decoration-color: #7f7f7f\">                  </span>\n",
       "         Traceback <span style=\"font-weight: bold\">(</span>most recent call last<span style=\"font-weight: bold\">)</span>:                                                      <span style=\"color: #7f7f7f; text-decoration-color: #7f7f7f\">                  </span>\n",
       "           File                                                                                  <span style=\"color: #7f7f7f; text-decoration-color: #7f7f7f\">                  </span>\n",
       "         <span style=\"color: #008000; text-decoration-color: #008000\">\"/usr/local/lib/python3.11/dist-packages/infinity_emb/transformer/acceleration.py\"</span>,     <span style=\"color: #7f7f7f; text-decoration-color: #7f7f7f\">                  </span>\n",
       "         line <span style=\"color: #008080; text-decoration-color: #008080; font-weight: bold\">60</span>, in to_bettertransformer                                                        <span style=\"color: #7f7f7f; text-decoration-color: #7f7f7f\">                  </span>\n",
       "             model = <span style=\"color: #800080; text-decoration-color: #800080; font-weight: bold\">BetterTransformer.transform</span><span style=\"font-weight: bold\">(</span>model<span style=\"font-weight: bold\">)</span>                                          <span style=\"color: #7f7f7f; text-decoration-color: #7f7f7f\">                  </span>\n",
       "                     ^^^^^^^^^^^^^^^^^^^^^^^^^^^^^^^^^^                                          <span style=\"color: #7f7f7f; text-decoration-color: #7f7f7f\">                  </span>\n",
       "           File <span style=\"color: #008000; text-decoration-color: #008000\">\"/usr/lib/python3.11/contextlib.py\"</span>, line <span style=\"color: #008080; text-decoration-color: #008080; font-weight: bold\">81</span>, in inner                           <span style=\"color: #7f7f7f; text-decoration-color: #7f7f7f\">                  </span>\n",
       "             return <span style=\"color: #800080; text-decoration-color: #800080; font-weight: bold\">func</span><span style=\"font-weight: bold\">(</span>*args, **kwds<span style=\"font-weight: bold\">)</span>                                                          <span style=\"color: #7f7f7f; text-decoration-color: #7f7f7f\">                  </span>\n",
       "                    ^^^^^^^^^^^^^^^^^^^                                                          <span style=\"color: #7f7f7f; text-decoration-color: #7f7f7f\">                  </span>\n",
       "           File                                                                                  <span style=\"color: #7f7f7f; text-decoration-color: #7f7f7f\">                  </span>\n",
       "         <span style=\"color: #008000; text-decoration-color: #008000\">\"/usr/local/lib/python3.11/dist-packages/optimum/bettertransformer/transformation.py\"</span>,  <span style=\"color: #7f7f7f; text-decoration-color: #7f7f7f\">                  </span>\n",
       "         line <span style=\"color: #008080; text-decoration-color: #008080; font-weight: bold\">292</span>, in transform                                                                  <span style=\"color: #7f7f7f; text-decoration-color: #7f7f7f\">                  </span>\n",
       "             <span style=\"color: #800080; text-decoration-color: #800080; font-weight: bold\">set_last_layer</span><span style=\"font-weight: bold\">(</span>model_fast<span style=\"font-weight: bold\">)</span>                                                          <span style=\"color: #7f7f7f; text-decoration-color: #7f7f7f\">                  </span>\n",
       "           File                                                                                  <span style=\"color: #7f7f7f; text-decoration-color: #7f7f7f\">                  </span>\n",
       "         <span style=\"color: #008000; text-decoration-color: #008000\">\"/usr/local/lib/python3.11/dist-packages/optimum/bettertransformer/transformation.py\"</span>,  <span style=\"color: #7f7f7f; text-decoration-color: #7f7f7f\">                  </span>\n",
       "         line <span style=\"color: #008080; text-decoration-color: #008080; font-weight: bold\">172</span>, in set_last_layer                                                             <span style=\"color: #7f7f7f; text-decoration-color: #7f7f7f\">                  </span>\n",
       "             raise <span style=\"color: #800080; text-decoration-color: #800080; font-weight: bold\">Exception</span><span style=\"font-weight: bold\">(</span>                                                                    <span style=\"color: #7f7f7f; text-decoration-color: #7f7f7f\">                  </span>\n",
       "         Exception: The transformation of the model JinaBertModel to BetterTransformer failed    <span style=\"color: #7f7f7f; text-decoration-color: #7f7f7f\">                  </span>\n",
       "         while it should not. Please fill a bug report or open a PR to support this model at     <span style=\"color: #7f7f7f; text-decoration-color: #7f7f7f\">                  </span>\n",
       "         <span style=\"color: #0000ff; text-decoration-color: #0000ff; text-decoration: underline\">https://github.com/huggingface/optimum/</span>                                                 <span style=\"color: #7f7f7f; text-decoration-color: #7f7f7f\">                  </span>\n",
       "</pre>\n"
      ],
      "text/plain": [
       "\u001b[1;31mERROR   \u001b[0m \u001b[1;36m2025\u001b[0m-\u001b[1;36m06\u001b[0m-\u001b[1;36m09\u001b[0m \u001b[1;92m12:55:06\u001b[0m,\u001b[1;36m914\u001b[0m infinity_emb ERROR: BetterTransformer is not available for      \u001b]8;id=189859;file:///usr/local/lib/python3.11/dist-packages/infinity_emb/transformer/acceleration.py\u001b\\\u001b[2macceleration.py\u001b[0m\u001b]8;;\u001b\\\u001b[2m:\u001b[0m\u001b]8;id=377150;file:///usr/local/lib/python3.11/dist-packages/infinity_emb/transformer/acceleration.py#64\u001b\\\u001b[2m64\u001b[0m\u001b]8;;\u001b\\\n",
       "         model: \u001b[1m<\u001b[0m\u001b[1;95mclass\u001b[0m\u001b[39m \u001b[0m                                                                          \u001b[2m                  \u001b[0m\n",
       "         \u001b[32m'transformers_modules.jinaai.jina-bert-v2-qk-post-norm.3baf9e3ac750e76e8edd301917017688\u001b[0m \u001b[2m                  \u001b[0m\n",
       "         \u001b[32m4695fb94.modeling_bert.JinaBertModel'\u001b[0m\u001b[1m>\u001b[0m The transformation of the model JinaBertModel to \u001b[2m                  \u001b[0m\n",
       "         BetterTransformer failed while it should not. Please fill a bug report or open a PR to  \u001b[2m                  \u001b[0m\n",
       "         support this model at \u001b[4;94mhttps://github.com/huggingface/optimum/.\u001b[0m Continue without         \u001b[2m                  \u001b[0m\n",
       "         bettertransformer modeling code.                                                        \u001b[2m                  \u001b[0m\n",
       "         Traceback \u001b[1m(\u001b[0mmost recent call last\u001b[1m)\u001b[0m:                                                      \u001b[2m                  \u001b[0m\n",
       "           File                                                                                  \u001b[2m                  \u001b[0m\n",
       "         \u001b[32m\"/usr/local/lib/python3.11/dist-packages/infinity_emb/transformer/acceleration.py\"\u001b[0m,     \u001b[2m                  \u001b[0m\n",
       "         line \u001b[1;36m60\u001b[0m, in to_bettertransformer                                                        \u001b[2m                  \u001b[0m\n",
       "             model = \u001b[1;35mBetterTransformer.transform\u001b[0m\u001b[1m(\u001b[0mmodel\u001b[1m)\u001b[0m                                          \u001b[2m                  \u001b[0m\n",
       "                     ^^^^^^^^^^^^^^^^^^^^^^^^^^^^^^^^^^                                          \u001b[2m                  \u001b[0m\n",
       "           File \u001b[32m\"/usr/lib/python3.11/contextlib.py\"\u001b[0m, line \u001b[1;36m81\u001b[0m, in inner                           \u001b[2m                  \u001b[0m\n",
       "             return \u001b[1;35mfunc\u001b[0m\u001b[1m(\u001b[0m*args, **kwds\u001b[1m)\u001b[0m                                                          \u001b[2m                  \u001b[0m\n",
       "                    ^^^^^^^^^^^^^^^^^^^                                                          \u001b[2m                  \u001b[0m\n",
       "           File                                                                                  \u001b[2m                  \u001b[0m\n",
       "         \u001b[32m\"/usr/local/lib/python3.11/dist-packages/optimum/bettertransformer/transformation.py\"\u001b[0m,  \u001b[2m                  \u001b[0m\n",
       "         line \u001b[1;36m292\u001b[0m, in transform                                                                  \u001b[2m                  \u001b[0m\n",
       "             \u001b[1;35mset_last_layer\u001b[0m\u001b[1m(\u001b[0mmodel_fast\u001b[1m)\u001b[0m                                                          \u001b[2m                  \u001b[0m\n",
       "           File                                                                                  \u001b[2m                  \u001b[0m\n",
       "         \u001b[32m\"/usr/local/lib/python3.11/dist-packages/optimum/bettertransformer/transformation.py\"\u001b[0m,  \u001b[2m                  \u001b[0m\n",
       "         line \u001b[1;36m172\u001b[0m, in set_last_layer                                                             \u001b[2m                  \u001b[0m\n",
       "             raise \u001b[1;35mException\u001b[0m\u001b[1m(\u001b[0m                                                                    \u001b[2m                  \u001b[0m\n",
       "         Exception: The transformation of the model JinaBertModel to BetterTransformer failed    \u001b[2m                  \u001b[0m\n",
       "         while it should not. Please fill a bug report or open a PR to support this model at     \u001b[2m                  \u001b[0m\n",
       "         \u001b[4;94mhttps://github.com/huggingface/optimum/\u001b[0m                                                 \u001b[2m                  \u001b[0m\n"
      ]
     },
     "metadata": {},
     "output_type": "display_data"
    },
    {
     "data": {
      "text/html": [
       "<pre style=\"white-space:pre;overflow-x:auto;line-height:normal;font-family:Menlo,'DejaVu Sans Mono',consolas,'Courier New',monospace\"><span style=\"color: #000080; text-decoration-color: #000080\">INFO    </span> <span style=\"color: #008080; text-decoration-color: #008080; font-weight: bold\">2025</span>-<span style=\"color: #008080; text-decoration-color: #008080; font-weight: bold\">06</span>-<span style=\"color: #008080; text-decoration-color: #008080; font-weight: bold\">09</span> <span style=\"color: #00ff00; text-decoration-color: #00ff00; font-weight: bold\">12:55:06</span>,<span style=\"color: #008080; text-decoration-color: #008080; font-weight: bold\">920</span> infinity_emb INFO: Switching to <span style=\"color: #800080; text-decoration-color: #800080; font-weight: bold\">half</span><span style=\"font-weight: bold\">()</span> precision <span style=\"font-weight: bold\">(</span>cuda: <a href=\"file:///usr/local/lib/python3.11/dist-packages/infinity_emb/transformer/embedder/sentence_transformer.py\" target=\"_blank\"><span style=\"color: #7f7f7f; text-decoration-color: #7f7f7f\">sentence_transformer.py</span></a><span style=\"color: #7f7f7f; text-decoration-color: #7f7f7f\">:</span><a href=\"file:///usr/local/lib/python3.11/dist-packages/infinity_emb/transformer/embedder/sentence_transformer.py#84\" target=\"_blank\"><span style=\"color: #7f7f7f; text-decoration-color: #7f7f7f\">84</span></a>\n",
       "         fp16<span style=\"font-weight: bold\">)</span>.                                                                          <span style=\"color: #7f7f7f; text-decoration-color: #7f7f7f\">                          </span>\n",
       "</pre>\n"
      ],
      "text/plain": [
       "\u001b[34mINFO    \u001b[0m \u001b[1;36m2025\u001b[0m-\u001b[1;36m06\u001b[0m-\u001b[1;36m09\u001b[0m \u001b[1;92m12:55:06\u001b[0m,\u001b[1;36m920\u001b[0m infinity_emb INFO: Switching to \u001b[1;35mhalf\u001b[0m\u001b[1m(\u001b[0m\u001b[1m)\u001b[0m precision \u001b[1m(\u001b[0mcuda: \u001b]8;id=6461;file:///usr/local/lib/python3.11/dist-packages/infinity_emb/transformer/embedder/sentence_transformer.py\u001b\\\u001b[2msentence_transformer.py\u001b[0m\u001b]8;;\u001b\\\u001b[2m:\u001b[0m\u001b]8;id=631529;file:///usr/local/lib/python3.11/dist-packages/infinity_emb/transformer/embedder/sentence_transformer.py#84\u001b\\\u001b[2m84\u001b[0m\u001b]8;;\u001b\\\n",
       "         fp16\u001b[1m)\u001b[0m.                                                                          \u001b[2m                          \u001b[0m\n"
      ]
     },
     "metadata": {},
     "output_type": "display_data"
    },
    {
     "data": {
      "text/html": [
       "<pre style=\"white-space:pre;overflow-x:auto;line-height:normal;font-family:Menlo,'DejaVu Sans Mono',consolas,'Courier New',monospace\"><span style=\"color: #000080; text-decoration-color: #000080\">INFO    </span> <span style=\"color: #008080; text-decoration-color: #008080; font-weight: bold\">2025</span>-<span style=\"color: #008080; text-decoration-color: #008080; font-weight: bold\">06</span>-<span style=\"color: #008080; text-decoration-color: #008080; font-weight: bold\">09</span> <span style=\"color: #00ff00; text-decoration-color: #00ff00; font-weight: bold\">12:55:06</span>,<span style=\"color: #008080; text-decoration-color: #008080; font-weight: bold\">934</span> infinity_emb INFO: <span style=\"color: #808000; text-decoration-color: #808000\">model</span>=`voyageai/voyage-code-<span style=\"color: #008080; text-decoration-color: #008080; font-weight: bold\">3</span>` selected,     <a href=\"file:///usr/local/lib/python3.11/dist-packages/infinity_emb/inference/select_model.py\" target=\"_blank\"><span style=\"color: #7f7f7f; text-decoration-color: #7f7f7f\">select_model.py</span></a><span style=\"color: #7f7f7f; text-decoration-color: #7f7f7f\">:</span><a href=\"file:///usr/local/lib/python3.11/dist-packages/infinity_emb/inference/select_model.py#66\" target=\"_blank\"><span style=\"color: #7f7f7f; text-decoration-color: #7f7f7f\">66</span></a>\n",
       "         using <span style=\"color: #808000; text-decoration-color: #808000\">engine</span>=`torch` and <span style=\"color: #808000; text-decoration-color: #808000\">device</span>=`cuda`                                                  <span style=\"color: #7f7f7f; text-decoration-color: #7f7f7f\">                  </span>\n",
       "</pre>\n"
      ],
      "text/plain": [
       "\u001b[34mINFO    \u001b[0m \u001b[1;36m2025\u001b[0m-\u001b[1;36m06\u001b[0m-\u001b[1;36m09\u001b[0m \u001b[1;92m12:55:06\u001b[0m,\u001b[1;36m934\u001b[0m infinity_emb INFO: \u001b[33mmodel\u001b[0m=`voyageai/voyage-code-\u001b[1;36m3\u001b[0m` selected,     \u001b]8;id=469922;file:///usr/local/lib/python3.11/dist-packages/infinity_emb/inference/select_model.py\u001b\\\u001b[2mselect_model.py\u001b[0m\u001b]8;;\u001b\\\u001b[2m:\u001b[0m\u001b]8;id=818722;file:///usr/local/lib/python3.11/dist-packages/infinity_emb/inference/select_model.py#66\u001b\\\u001b[2m66\u001b[0m\u001b]8;;\u001b\\\n",
       "         using \u001b[33mengine\u001b[0m=`torch` and \u001b[33mdevice\u001b[0m=`cuda`                                                  \u001b[2m                  \u001b[0m\n"
      ]
     },
     "metadata": {},
     "output_type": "display_data"
    },
    {
     "ename": "EntryNotFoundError",
     "evalue": "404 Client Error. (Request ID: Root=1-6846d9aa-59b1dc3646778c3159cda1a5;056d5d2d-626e-4bf8-8fb0-e2396abe79db)\n\nEntry Not Found for url: https://huggingface.co/voyageai/voyage-code-3/resolve/main/config.json.",
     "output_type": "error",
     "traceback": [
      "\u001b[0;31m---------------------------------------------------------------------------\u001b[0m",
      "\u001b[0;31mHTTPError\u001b[0m                                 Traceback (most recent call last)",
      "\u001b[0;32m/usr/local/lib/python3.11/dist-packages/huggingface_hub/utils/_http.py\u001b[0m in \u001b[0;36mhf_raise_for_status\u001b[0;34m(response, endpoint_name)\u001b[0m\n\u001b[1;32m    408\u001b[0m     \u001b[0;32mtry\u001b[0m\u001b[0;34m:\u001b[0m\u001b[0;34m\u001b[0m\u001b[0;34m\u001b[0m\u001b[0m\n\u001b[0;32m--> 409\u001b[0;31m         \u001b[0mresponse\u001b[0m\u001b[0;34m.\u001b[0m\u001b[0mraise_for_status\u001b[0m\u001b[0;34m(\u001b[0m\u001b[0;34m)\u001b[0m\u001b[0;34m\u001b[0m\u001b[0;34m\u001b[0m\u001b[0m\n\u001b[0m\u001b[1;32m    410\u001b[0m     \u001b[0;32mexcept\u001b[0m \u001b[0mHTTPError\u001b[0m \u001b[0;32mas\u001b[0m \u001b[0me\u001b[0m\u001b[0;34m:\u001b[0m\u001b[0;34m\u001b[0m\u001b[0;34m\u001b[0m\u001b[0m\n",
      "\u001b[0;32m/usr/local/lib/python3.11/dist-packages/requests/models.py\u001b[0m in \u001b[0;36mraise_for_status\u001b[0;34m(self)\u001b[0m\n\u001b[1;32m   1023\u001b[0m         \u001b[0;32mif\u001b[0m \u001b[0mhttp_error_msg\u001b[0m\u001b[0;34m:\u001b[0m\u001b[0;34m\u001b[0m\u001b[0;34m\u001b[0m\u001b[0m\n\u001b[0;32m-> 1024\u001b[0;31m             \u001b[0;32mraise\u001b[0m \u001b[0mHTTPError\u001b[0m\u001b[0;34m(\u001b[0m\u001b[0mhttp_error_msg\u001b[0m\u001b[0;34m,\u001b[0m \u001b[0mresponse\u001b[0m\u001b[0;34m=\u001b[0m\u001b[0mself\u001b[0m\u001b[0;34m)\u001b[0m\u001b[0;34m\u001b[0m\u001b[0;34m\u001b[0m\u001b[0m\n\u001b[0m\u001b[1;32m   1025\u001b[0m \u001b[0;34m\u001b[0m\u001b[0m\n",
      "\u001b[0;31mHTTPError\u001b[0m: 404 Client Error: Not Found for url: https://huggingface.co/voyageai/voyage-code-3/resolve/main/config.json",
      "\nThe above exception was the direct cause of the following exception:\n",
      "\u001b[0;31mEntryNotFoundError\u001b[0m                        Traceback (most recent call last)",
      "\u001b[0;32m<ipython-input-25-4448bbdea9fb>\u001b[0m in \u001b[0;36m<cell line: 0>\u001b[0;34m()\u001b[0m\n\u001b[1;32m     10\u001b[0m \u001b[0;34m\u001b[0m\u001b[0m\n\u001b[1;32m     11\u001b[0m \u001b[0;31m#Define custom embedding function\u001b[0m\u001b[0;34m\u001b[0m\u001b[0;34m\u001b[0m\u001b[0m\n\u001b[0;32m---> 12\u001b[0;31m register = BatchedInference(\n\u001b[0m\u001b[1;32m     13\u001b[0m         model_id=[\n\u001b[1;32m     14\u001b[0m             \u001b[0;34m\"jinaai/jina-embeddings-v2-base-code\"\u001b[0m\u001b[0;34m,\u001b[0m\u001b[0;34m\u001b[0m\u001b[0;34m\u001b[0m\u001b[0m\n",
      "\u001b[0;32m/usr/local/lib/python3.11/dist-packages/embed/_infer.py\u001b[0m in \u001b[0;36m__init__\u001b[0;34m(self, model_id, engine, device, dtype, embedding_dtype)\u001b[0m\n\u001b[1;32m     57\u001b[0m         )\n\u001b[1;32m     58\u001b[0m         \u001b[0mself\u001b[0m\u001b[0;34m.\u001b[0m\u001b[0m_engine_args\u001b[0m \u001b[0;34m=\u001b[0m \u001b[0;34m[\u001b[0m\u001b[0mEngineArgs\u001b[0m\u001b[0;34m(\u001b[0m\u001b[0;34m**\u001b[0m\u001b[0mkwargs\u001b[0m\u001b[0;34m)\u001b[0m \u001b[0;32mfor\u001b[0m \u001b[0mkwargs\u001b[0m \u001b[0;32min\u001b[0m \u001b[0mpad\u001b[0m\u001b[0;34m]\u001b[0m\u001b[0;34m\u001b[0m\u001b[0;34m\u001b[0m\u001b[0m\n\u001b[0;32m---> 59\u001b[0;31m         \u001b[0mself\u001b[0m\u001b[0;34m.\u001b[0m\u001b[0m_engine_array\u001b[0m \u001b[0;34m=\u001b[0m \u001b[0mSyncEngineArray\u001b[0m\u001b[0;34m.\u001b[0m\u001b[0mfrom_args\u001b[0m\u001b[0;34m(\u001b[0m\u001b[0mself\u001b[0m\u001b[0;34m.\u001b[0m\u001b[0m_engine_args\u001b[0m\u001b[0;34m)\u001b[0m\u001b[0;34m\u001b[0m\u001b[0;34m\u001b[0m\u001b[0m\n\u001b[0m\u001b[1;32m     60\u001b[0m \u001b[0;34m\u001b[0m\u001b[0m\n\u001b[1;32m     61\u001b[0m     \u001b[0;32mdef\u001b[0m \u001b[0mstop\u001b[0m\u001b[0;34m(\u001b[0m\u001b[0mself\u001b[0m\u001b[0;34m)\u001b[0m\u001b[0;34m:\u001b[0m\u001b[0;34m\u001b[0m\u001b[0;34m\u001b[0m\u001b[0m\n",
      "\u001b[0;32m/usr/local/lib/python3.11/dist-packages/infinity_emb/sync_engine.py\u001b[0m in \u001b[0;36mfrom_args\u001b[0;34m(cls, engine_args_array)\u001b[0m\n\u001b[1;32m    162\u001b[0m     \u001b[0;34m@\u001b[0m\u001b[0mclassmethod\u001b[0m\u001b[0;34m\u001b[0m\u001b[0;34m\u001b[0m\u001b[0m\n\u001b[1;32m    163\u001b[0m     \u001b[0;32mdef\u001b[0m \u001b[0mfrom_args\u001b[0m\u001b[0;34m(\u001b[0m\u001b[0mcls\u001b[0m\u001b[0;34m,\u001b[0m \u001b[0mengine_args_array\u001b[0m\u001b[0;34m:\u001b[0m \u001b[0mlist\u001b[0m\u001b[0;34m[\u001b[0m\u001b[0mEngineArgs\u001b[0m\u001b[0;34m]\u001b[0m\u001b[0;34m)\u001b[0m \u001b[0;34m->\u001b[0m \u001b[0;34m\"SyncEngineArray\"\u001b[0m\u001b[0;34m:\u001b[0m\u001b[0;34m\u001b[0m\u001b[0;34m\u001b[0m\u001b[0m\n\u001b[0;32m--> 164\u001b[0;31m         \u001b[0;32mreturn\u001b[0m \u001b[0mcls\u001b[0m\u001b[0;34m(\u001b[0m\u001b[0m_engine_args_array\u001b[0m\u001b[0;34m=\u001b[0m\u001b[0mengine_args_array\u001b[0m\u001b[0;34m)\u001b[0m\u001b[0;34m\u001b[0m\u001b[0;34m\u001b[0m\u001b[0m\n\u001b[0m\u001b[1;32m    165\u001b[0m \u001b[0;34m\u001b[0m\u001b[0m\n\u001b[1;32m    166\u001b[0m     \u001b[0;34m@\u001b[0m\u001b[0mproperty\u001b[0m\u001b[0;34m\u001b[0m\u001b[0;34m\u001b[0m\u001b[0m\n",
      "\u001b[0;32m/usr/local/lib/python3.11/dist-packages/infinity_emb/sync_engine.py\u001b[0m in \u001b[0;36m__init__\u001b[0;34m(self, _engine_args_array)\u001b[0m\n\u001b[1;32m    144\u001b[0m     \u001b[0;32mdef\u001b[0m \u001b[0m__init__\u001b[0m\u001b[0;34m(\u001b[0m\u001b[0mself\u001b[0m\u001b[0;34m,\u001b[0m \u001b[0m_engine_args_array\u001b[0m\u001b[0;34m:\u001b[0m \u001b[0mlist\u001b[0m\u001b[0;34m[\u001b[0m\u001b[0mEngineArgs\u001b[0m\u001b[0;34m]\u001b[0m\u001b[0;34m)\u001b[0m\u001b[0;34m:\u001b[0m\u001b[0;34m\u001b[0m\u001b[0;34m\u001b[0m\u001b[0m\n\u001b[1;32m    145\u001b[0m         \u001b[0msuper\u001b[0m\u001b[0;34m(\u001b[0m\u001b[0;34m)\u001b[0m\u001b[0;34m.\u001b[0m\u001b[0m__init__\u001b[0m\u001b[0;34m(\u001b[0m\u001b[0;34m)\u001b[0m\u001b[0;34m\u001b[0m\u001b[0;34m\u001b[0m\u001b[0m\n\u001b[0;32m--> 146\u001b[0;31m         \u001b[0mself\u001b[0m\u001b[0;34m.\u001b[0m\u001b[0masync_engine_array\u001b[0m \u001b[0;34m=\u001b[0m \u001b[0mAsyncEngineArray\u001b[0m\u001b[0;34m.\u001b[0m\u001b[0mfrom_args\u001b[0m\u001b[0;34m(\u001b[0m\u001b[0m_engine_args_array\u001b[0m\u001b[0;34m)\u001b[0m\u001b[0;34m\u001b[0m\u001b[0;34m\u001b[0m\u001b[0m\n\u001b[0m\u001b[1;32m    147\u001b[0m         \u001b[0mself\u001b[0m\u001b[0;34m.\u001b[0m\u001b[0masync_run\u001b[0m\u001b[0;34m(\u001b[0m\u001b[0mself\u001b[0m\u001b[0;34m.\u001b[0m\u001b[0masync_engine_array\u001b[0m\u001b[0;34m.\u001b[0m\u001b[0mastart\u001b[0m\u001b[0;34m)\u001b[0m\u001b[0;34m.\u001b[0m\u001b[0mresult\u001b[0m\u001b[0;34m(\u001b[0m\u001b[0;34m)\u001b[0m\u001b[0;34m\u001b[0m\u001b[0;34m\u001b[0m\u001b[0m\n\u001b[1;32m    148\u001b[0m \u001b[0;34m\u001b[0m\u001b[0m\n",
      "\u001b[0;32m/usr/local/lib/python3.11/dist-packages/infinity_emb/engine.py\u001b[0m in \u001b[0;36mfrom_args\u001b[0;34m(cls, engine_args_array)\u001b[0m\n\u001b[1;32m    281\u001b[0m         \u001b[0mengines\u001b[0m \u001b[0;34m=\u001b[0m \u001b[0mmap\u001b[0m\u001b[0;34m(\u001b[0m\u001b[0mAsyncEmbeddingEngine\u001b[0m\u001b[0;34m.\u001b[0m\u001b[0mfrom_args\u001b[0m\u001b[0;34m,\u001b[0m \u001b[0mengine_args_array\u001b[0m\u001b[0;34m)\u001b[0m\u001b[0;34m\u001b[0m\u001b[0;34m\u001b[0m\u001b[0m\n\u001b[1;32m    282\u001b[0m \u001b[0;34m\u001b[0m\u001b[0m\n\u001b[0;32m--> 283\u001b[0;31m         \u001b[0;32mreturn\u001b[0m \u001b[0mcls\u001b[0m\u001b[0;34m(\u001b[0m\u001b[0mengines\u001b[0m\u001b[0;34m=\u001b[0m\u001b[0mtuple\u001b[0m\u001b[0;34m(\u001b[0m\u001b[0mengines\u001b[0m\u001b[0;34m)\u001b[0m\u001b[0;34m)\u001b[0m\u001b[0;34m\u001b[0m\u001b[0;34m\u001b[0m\u001b[0m\n\u001b[0m\u001b[1;32m    284\u001b[0m \u001b[0;34m\u001b[0m\u001b[0m\n\u001b[1;32m    285\u001b[0m     \u001b[0;32mdef\u001b[0m \u001b[0m__iter__\u001b[0m\u001b[0;34m(\u001b[0m\u001b[0mself\u001b[0m\u001b[0;34m)\u001b[0m \u001b[0;34m->\u001b[0m \u001b[0mIterator\u001b[0m\u001b[0;34m[\u001b[0m\u001b[0;34m\"AsyncEmbeddingEngine\"\u001b[0m\u001b[0;34m]\u001b[0m\u001b[0;34m:\u001b[0m\u001b[0;34m\u001b[0m\u001b[0;34m\u001b[0m\u001b[0m\n",
      "\u001b[0;32m/usr/local/lib/python3.11/dist-packages/infinity_emb/engine.py\u001b[0m in \u001b[0;36mfrom_args\u001b[0;34m(cls, engine_args)\u001b[0m\n\u001b[1;32m     66\u001b[0m             \u001b[0mengine_args\u001b[0m \u001b[0;34m(\u001b[0m\u001b[0mEngineArgs\u001b[0m\u001b[0;34m)\u001b[0m\u001b[0;34m:\u001b[0m \u001b[0mEngineArgs\u001b[0m \u001b[0mobject\u001b[0m\u001b[0;34m\u001b[0m\u001b[0;34m\u001b[0m\u001b[0m\n\u001b[1;32m     67\u001b[0m         \"\"\"\n\u001b[0;32m---> 68\u001b[0;31m         \u001b[0mengine\u001b[0m \u001b[0;34m=\u001b[0m \u001b[0mcls\u001b[0m\u001b[0;34m(\u001b[0m\u001b[0;34m**\u001b[0m\u001b[0mengine_args\u001b[0m\u001b[0;34m.\u001b[0m\u001b[0mto_dict\u001b[0m\u001b[0;34m(\u001b[0m\u001b[0;34m)\u001b[0m\u001b[0;34m,\u001b[0m \u001b[0m_show_deprecation_warning\u001b[0m\u001b[0;34m=\u001b[0m\u001b[0;32mFalse\u001b[0m\u001b[0;34m)\u001b[0m\u001b[0;34m\u001b[0m\u001b[0;34m\u001b[0m\u001b[0m\n\u001b[0m\u001b[1;32m     69\u001b[0m \u001b[0;34m\u001b[0m\u001b[0m\n\u001b[1;32m     70\u001b[0m         \u001b[0;32mreturn\u001b[0m \u001b[0mengine\u001b[0m\u001b[0;34m\u001b[0m\u001b[0;34m\u001b[0m\u001b[0m\n",
      "\u001b[0;32m/usr/local/lib/python3.11/dist-packages/infinity_emb/engine.py\u001b[0m in \u001b[0;36m__init__\u001b[0;34m(self, model_name_or_path, _show_deprecation_warning, **kwargs)\u001b[0m\n\u001b[1;32m     52\u001b[0m         \u001b[0mself\u001b[0m\u001b[0;34m.\u001b[0m\u001b[0mrunning\u001b[0m \u001b[0;34m=\u001b[0m \u001b[0;32mFalse\u001b[0m\u001b[0;34m\u001b[0m\u001b[0;34m\u001b[0m\u001b[0m\n\u001b[1;32m     53\u001b[0m         \u001b[0mself\u001b[0m\u001b[0;34m.\u001b[0m\u001b[0m_running_sepamore\u001b[0m\u001b[0;34m:\u001b[0m \u001b[0mOptional\u001b[0m\u001b[0;34m[\u001b[0m\u001b[0mSemaphore\u001b[0m\u001b[0;34m]\u001b[0m \u001b[0;34m=\u001b[0m \u001b[0;32mNone\u001b[0m\u001b[0;34m\u001b[0m\u001b[0;34m\u001b[0m\u001b[0m\n\u001b[0;32m---> 54\u001b[0;31m         self._model, self._min_inference_t, self._max_inference_t = select_model(\n\u001b[0m\u001b[1;32m     55\u001b[0m             \u001b[0mself\u001b[0m\u001b[0;34m.\u001b[0m\u001b[0m_engine_args\u001b[0m\u001b[0;34m\u001b[0m\u001b[0;34m\u001b[0m\u001b[0m\n\u001b[1;32m     56\u001b[0m         )\n",
      "\u001b[0;32m/usr/local/lib/python3.11/dist-packages/infinity_emb/inference/select_model.py\u001b[0m in \u001b[0;36mselect_model\u001b[0;34m(engine_args)\u001b[0m\n\u001b[1;32m     70\u001b[0m     )\n\u001b[1;32m     71\u001b[0m     \u001b[0;31m# TODO: add EncoderEngine\u001b[0m\u001b[0;34m\u001b[0m\u001b[0;34m\u001b[0m\u001b[0m\n\u001b[0;32m---> 72\u001b[0;31m     \u001b[0munloaded_engine\u001b[0m \u001b[0;34m=\u001b[0m \u001b[0mget_engine_type_from_config\u001b[0m\u001b[0;34m(\u001b[0m\u001b[0mengine_args\u001b[0m\u001b[0;34m)\u001b[0m\u001b[0;34m\u001b[0m\u001b[0;34m\u001b[0m\u001b[0m\n\u001b[0m\u001b[1;32m     73\u001b[0m \u001b[0;34m\u001b[0m\u001b[0m\n\u001b[1;32m     74\u001b[0m     \u001b[0mloaded_engine\u001b[0m \u001b[0;34m=\u001b[0m \u001b[0munloaded_engine\u001b[0m\u001b[0;34m.\u001b[0m\u001b[0mvalue\u001b[0m\u001b[0;34m(\u001b[0m\u001b[0mengine_args\u001b[0m\u001b[0;34m=\u001b[0m\u001b[0mengine_args\u001b[0m\u001b[0;34m)\u001b[0m\u001b[0;34m\u001b[0m\u001b[0;34m\u001b[0m\u001b[0m\n",
      "\u001b[0;32m/usr/local/lib/python3.11/dist-packages/infinity_emb/inference/select_model.py\u001b[0m in \u001b[0;36mget_engine_type_from_config\u001b[0;34m(engine_args)\u001b[0m\n\u001b[1;32m     34\u001b[0m         \u001b[0;32mfrom\u001b[0m \u001b[0mhuggingface_hub\u001b[0m \u001b[0;32mimport\u001b[0m \u001b[0mhf_hub_download\u001b[0m  \u001b[0;31m# type: ignore[import-untyped]\u001b[0m\u001b[0;34m\u001b[0m\u001b[0;34m\u001b[0m\u001b[0m\n\u001b[1;32m     35\u001b[0m \u001b[0;34m\u001b[0m\u001b[0m\n\u001b[0;32m---> 36\u001b[0;31m         config_path = hf_hub_download(\n\u001b[0m\u001b[1;32m     37\u001b[0m             \u001b[0mengine_args\u001b[0m\u001b[0;34m.\u001b[0m\u001b[0mmodel_name_or_path\u001b[0m\u001b[0;34m,\u001b[0m\u001b[0;34m\u001b[0m\u001b[0;34m\u001b[0m\u001b[0m\n\u001b[1;32m     38\u001b[0m             \u001b[0mrevision\u001b[0m\u001b[0;34m=\u001b[0m\u001b[0mengine_args\u001b[0m\u001b[0;34m.\u001b[0m\u001b[0mrevision\u001b[0m\u001b[0;34m,\u001b[0m\u001b[0;34m\u001b[0m\u001b[0;34m\u001b[0m\u001b[0m\n",
      "\u001b[0;32m/usr/local/lib/python3.11/dist-packages/huggingface_hub/utils/_validators.py\u001b[0m in \u001b[0;36m_inner_fn\u001b[0;34m(*args, **kwargs)\u001b[0m\n\u001b[1;32m    112\u001b[0m             \u001b[0mkwargs\u001b[0m \u001b[0;34m=\u001b[0m \u001b[0msmoothly_deprecate_use_auth_token\u001b[0m\u001b[0;34m(\u001b[0m\u001b[0mfn_name\u001b[0m\u001b[0;34m=\u001b[0m\u001b[0mfn\u001b[0m\u001b[0;34m.\u001b[0m\u001b[0m__name__\u001b[0m\u001b[0;34m,\u001b[0m \u001b[0mhas_token\u001b[0m\u001b[0;34m=\u001b[0m\u001b[0mhas_token\u001b[0m\u001b[0;34m,\u001b[0m \u001b[0mkwargs\u001b[0m\u001b[0;34m=\u001b[0m\u001b[0mkwargs\u001b[0m\u001b[0;34m)\u001b[0m\u001b[0;34m\u001b[0m\u001b[0;34m\u001b[0m\u001b[0m\n\u001b[1;32m    113\u001b[0m \u001b[0;34m\u001b[0m\u001b[0m\n\u001b[0;32m--> 114\u001b[0;31m         \u001b[0;32mreturn\u001b[0m \u001b[0mfn\u001b[0m\u001b[0;34m(\u001b[0m\u001b[0;34m*\u001b[0m\u001b[0margs\u001b[0m\u001b[0;34m,\u001b[0m \u001b[0;34m**\u001b[0m\u001b[0mkwargs\u001b[0m\u001b[0;34m)\u001b[0m\u001b[0;34m\u001b[0m\u001b[0;34m\u001b[0m\u001b[0m\n\u001b[0m\u001b[1;32m    115\u001b[0m \u001b[0;34m\u001b[0m\u001b[0m\n\u001b[1;32m    116\u001b[0m     \u001b[0;32mreturn\u001b[0m \u001b[0m_inner_fn\u001b[0m  \u001b[0;31m# type: ignore\u001b[0m\u001b[0;34m\u001b[0m\u001b[0;34m\u001b[0m\u001b[0m\n",
      "\u001b[0;32m/usr/local/lib/python3.11/dist-packages/huggingface_hub/file_download.py\u001b[0m in \u001b[0;36mhf_hub_download\u001b[0;34m(repo_id, filename, subfolder, repo_type, revision, library_name, library_version, cache_dir, local_dir, user_agent, force_download, proxies, etag_timeout, token, local_files_only, headers, endpoint, resume_download, force_filename, local_dir_use_symlinks)\u001b[0m\n\u001b[1;32m   1006\u001b[0m         )\n\u001b[1;32m   1007\u001b[0m     \u001b[0;32melse\u001b[0m\u001b[0;34m:\u001b[0m\u001b[0;34m\u001b[0m\u001b[0;34m\u001b[0m\u001b[0m\n\u001b[0;32m-> 1008\u001b[0;31m         return _hf_hub_download_to_cache_dir(\n\u001b[0m\u001b[1;32m   1009\u001b[0m             \u001b[0;31m# Destination\u001b[0m\u001b[0;34m\u001b[0m\u001b[0;34m\u001b[0m\u001b[0m\n\u001b[1;32m   1010\u001b[0m             \u001b[0mcache_dir\u001b[0m\u001b[0;34m=\u001b[0m\u001b[0mcache_dir\u001b[0m\u001b[0;34m,\u001b[0m\u001b[0;34m\u001b[0m\u001b[0;34m\u001b[0m\u001b[0m\n",
      "\u001b[0;32m/usr/local/lib/python3.11/dist-packages/huggingface_hub/file_download.py\u001b[0m in \u001b[0;36m_hf_hub_download_to_cache_dir\u001b[0;34m(cache_dir, repo_id, filename, repo_type, revision, endpoint, etag_timeout, headers, proxies, token, local_files_only, force_download)\u001b[0m\n\u001b[1;32m   1069\u001b[0m     \u001b[0;31m# Try to get metadata (etag, commit_hash, url, size) from the server.\u001b[0m\u001b[0;34m\u001b[0m\u001b[0;34m\u001b[0m\u001b[0m\n\u001b[1;32m   1070\u001b[0m     \u001b[0;31m# If we can't, a HEAD request error is returned.\u001b[0m\u001b[0;34m\u001b[0m\u001b[0;34m\u001b[0m\u001b[0m\n\u001b[0;32m-> 1071\u001b[0;31m     (url_to_download, etag, commit_hash, expected_size, xet_file_data, head_call_error) = _get_metadata_or_catch_error(\n\u001b[0m\u001b[1;32m   1072\u001b[0m         \u001b[0mrepo_id\u001b[0m\u001b[0;34m=\u001b[0m\u001b[0mrepo_id\u001b[0m\u001b[0;34m,\u001b[0m\u001b[0;34m\u001b[0m\u001b[0;34m\u001b[0m\u001b[0m\n\u001b[1;32m   1073\u001b[0m         \u001b[0mfilename\u001b[0m\u001b[0;34m=\u001b[0m\u001b[0mfilename\u001b[0m\u001b[0;34m,\u001b[0m\u001b[0;34m\u001b[0m\u001b[0;34m\u001b[0m\u001b[0m\n",
      "\u001b[0;32m/usr/local/lib/python3.11/dist-packages/huggingface_hub/file_download.py\u001b[0m in \u001b[0;36m_get_metadata_or_catch_error\u001b[0;34m(repo_id, filename, repo_type, revision, endpoint, proxies, etag_timeout, headers, token, local_files_only, relative_filename, storage_folder)\u001b[0m\n\u001b[1;32m   1531\u001b[0m         \u001b[0;32mtry\u001b[0m\u001b[0;34m:\u001b[0m\u001b[0;34m\u001b[0m\u001b[0;34m\u001b[0m\u001b[0m\n\u001b[1;32m   1532\u001b[0m             \u001b[0;32mtry\u001b[0m\u001b[0;34m:\u001b[0m\u001b[0;34m\u001b[0m\u001b[0;34m\u001b[0m\u001b[0m\n\u001b[0;32m-> 1533\u001b[0;31m                 metadata = get_hf_file_metadata(\n\u001b[0m\u001b[1;32m   1534\u001b[0m                     \u001b[0murl\u001b[0m\u001b[0;34m=\u001b[0m\u001b[0murl\u001b[0m\u001b[0;34m,\u001b[0m \u001b[0mproxies\u001b[0m\u001b[0;34m=\u001b[0m\u001b[0mproxies\u001b[0m\u001b[0;34m,\u001b[0m \u001b[0mtimeout\u001b[0m\u001b[0;34m=\u001b[0m\u001b[0metag_timeout\u001b[0m\u001b[0;34m,\u001b[0m \u001b[0mheaders\u001b[0m\u001b[0;34m=\u001b[0m\u001b[0mheaders\u001b[0m\u001b[0;34m,\u001b[0m \u001b[0mtoken\u001b[0m\u001b[0;34m=\u001b[0m\u001b[0mtoken\u001b[0m\u001b[0;34m\u001b[0m\u001b[0;34m\u001b[0m\u001b[0m\n\u001b[1;32m   1535\u001b[0m                 )\n",
      "\u001b[0;32m/usr/local/lib/python3.11/dist-packages/huggingface_hub/utils/_validators.py\u001b[0m in \u001b[0;36m_inner_fn\u001b[0;34m(*args, **kwargs)\u001b[0m\n\u001b[1;32m    112\u001b[0m             \u001b[0mkwargs\u001b[0m \u001b[0;34m=\u001b[0m \u001b[0msmoothly_deprecate_use_auth_token\u001b[0m\u001b[0;34m(\u001b[0m\u001b[0mfn_name\u001b[0m\u001b[0;34m=\u001b[0m\u001b[0mfn\u001b[0m\u001b[0;34m.\u001b[0m\u001b[0m__name__\u001b[0m\u001b[0;34m,\u001b[0m \u001b[0mhas_token\u001b[0m\u001b[0;34m=\u001b[0m\u001b[0mhas_token\u001b[0m\u001b[0;34m,\u001b[0m \u001b[0mkwargs\u001b[0m\u001b[0;34m=\u001b[0m\u001b[0mkwargs\u001b[0m\u001b[0;34m)\u001b[0m\u001b[0;34m\u001b[0m\u001b[0;34m\u001b[0m\u001b[0m\n\u001b[1;32m    113\u001b[0m \u001b[0;34m\u001b[0m\u001b[0m\n\u001b[0;32m--> 114\u001b[0;31m         \u001b[0;32mreturn\u001b[0m \u001b[0mfn\u001b[0m\u001b[0;34m(\u001b[0m\u001b[0;34m*\u001b[0m\u001b[0margs\u001b[0m\u001b[0;34m,\u001b[0m \u001b[0;34m**\u001b[0m\u001b[0mkwargs\u001b[0m\u001b[0;34m)\u001b[0m\u001b[0;34m\u001b[0m\u001b[0;34m\u001b[0m\u001b[0m\n\u001b[0m\u001b[1;32m    115\u001b[0m \u001b[0;34m\u001b[0m\u001b[0m\n\u001b[1;32m    116\u001b[0m     \u001b[0;32mreturn\u001b[0m \u001b[0m_inner_fn\u001b[0m  \u001b[0;31m# type: ignore\u001b[0m\u001b[0;34m\u001b[0m\u001b[0;34m\u001b[0m\u001b[0m\n",
      "\u001b[0;32m/usr/local/lib/python3.11/dist-packages/huggingface_hub/file_download.py\u001b[0m in \u001b[0;36mget_hf_file_metadata\u001b[0;34m(url, token, proxies, timeout, library_name, library_version, user_agent, headers)\u001b[0m\n\u001b[1;32m   1448\u001b[0m \u001b[0;34m\u001b[0m\u001b[0m\n\u001b[1;32m   1449\u001b[0m     \u001b[0;31m# Retrieve metadata\u001b[0m\u001b[0;34m\u001b[0m\u001b[0;34m\u001b[0m\u001b[0m\n\u001b[0;32m-> 1450\u001b[0;31m     r = _request_wrapper(\n\u001b[0m\u001b[1;32m   1451\u001b[0m         \u001b[0mmethod\u001b[0m\u001b[0;34m=\u001b[0m\u001b[0;34m\"HEAD\"\u001b[0m\u001b[0;34m,\u001b[0m\u001b[0;34m\u001b[0m\u001b[0;34m\u001b[0m\u001b[0m\n\u001b[1;32m   1452\u001b[0m         \u001b[0murl\u001b[0m\u001b[0;34m=\u001b[0m\u001b[0murl\u001b[0m\u001b[0;34m,\u001b[0m\u001b[0;34m\u001b[0m\u001b[0;34m\u001b[0m\u001b[0m\n",
      "\u001b[0;32m/usr/local/lib/python3.11/dist-packages/huggingface_hub/file_download.py\u001b[0m in \u001b[0;36m_request_wrapper\u001b[0;34m(method, url, follow_relative_redirects, **params)\u001b[0m\n\u001b[1;32m    284\u001b[0m     \u001b[0;31m# Recursively follow relative redirects\u001b[0m\u001b[0;34m\u001b[0m\u001b[0;34m\u001b[0m\u001b[0m\n\u001b[1;32m    285\u001b[0m     \u001b[0;32mif\u001b[0m \u001b[0mfollow_relative_redirects\u001b[0m\u001b[0;34m:\u001b[0m\u001b[0;34m\u001b[0m\u001b[0;34m\u001b[0m\u001b[0m\n\u001b[0;32m--> 286\u001b[0;31m         response = _request_wrapper(\n\u001b[0m\u001b[1;32m    287\u001b[0m             \u001b[0mmethod\u001b[0m\u001b[0;34m=\u001b[0m\u001b[0mmethod\u001b[0m\u001b[0;34m,\u001b[0m\u001b[0;34m\u001b[0m\u001b[0;34m\u001b[0m\u001b[0m\n\u001b[1;32m    288\u001b[0m             \u001b[0murl\u001b[0m\u001b[0;34m=\u001b[0m\u001b[0murl\u001b[0m\u001b[0;34m,\u001b[0m\u001b[0;34m\u001b[0m\u001b[0;34m\u001b[0m\u001b[0m\n",
      "\u001b[0;32m/usr/local/lib/python3.11/dist-packages/huggingface_hub/file_download.py\u001b[0m in \u001b[0;36m_request_wrapper\u001b[0;34m(method, url, follow_relative_redirects, **params)\u001b[0m\n\u001b[1;32m    308\u001b[0m     \u001b[0;31m# Perform request and return if status_code is not in the retry list.\u001b[0m\u001b[0;34m\u001b[0m\u001b[0;34m\u001b[0m\u001b[0m\n\u001b[1;32m    309\u001b[0m     \u001b[0mresponse\u001b[0m \u001b[0;34m=\u001b[0m \u001b[0mhttp_backoff\u001b[0m\u001b[0;34m(\u001b[0m\u001b[0mmethod\u001b[0m\u001b[0;34m=\u001b[0m\u001b[0mmethod\u001b[0m\u001b[0;34m,\u001b[0m \u001b[0murl\u001b[0m\u001b[0;34m=\u001b[0m\u001b[0murl\u001b[0m\u001b[0;34m,\u001b[0m \u001b[0;34m**\u001b[0m\u001b[0mparams\u001b[0m\u001b[0;34m,\u001b[0m \u001b[0mretry_on_exceptions\u001b[0m\u001b[0;34m=\u001b[0m\u001b[0;34m(\u001b[0m\u001b[0;34m)\u001b[0m\u001b[0;34m,\u001b[0m \u001b[0mretry_on_status_codes\u001b[0m\u001b[0;34m=\u001b[0m\u001b[0;34m(\u001b[0m\u001b[0;36m429\u001b[0m\u001b[0;34m,\u001b[0m\u001b[0;34m)\u001b[0m\u001b[0;34m)\u001b[0m\u001b[0;34m\u001b[0m\u001b[0;34m\u001b[0m\u001b[0m\n\u001b[0;32m--> 310\u001b[0;31m     \u001b[0mhf_raise_for_status\u001b[0m\u001b[0;34m(\u001b[0m\u001b[0mresponse\u001b[0m\u001b[0;34m)\u001b[0m\u001b[0;34m\u001b[0m\u001b[0;34m\u001b[0m\u001b[0m\n\u001b[0m\u001b[1;32m    311\u001b[0m     \u001b[0;32mreturn\u001b[0m \u001b[0mresponse\u001b[0m\u001b[0;34m\u001b[0m\u001b[0;34m\u001b[0m\u001b[0m\n\u001b[1;32m    312\u001b[0m \u001b[0;34m\u001b[0m\u001b[0m\n",
      "\u001b[0;32m/usr/local/lib/python3.11/dist-packages/huggingface_hub/utils/_http.py\u001b[0m in \u001b[0;36mhf_raise_for_status\u001b[0;34m(response, endpoint_name)\u001b[0m\n\u001b[1;32m    418\u001b[0m         \u001b[0;32melif\u001b[0m \u001b[0merror_code\u001b[0m \u001b[0;34m==\u001b[0m \u001b[0;34m\"EntryNotFound\"\u001b[0m\u001b[0;34m:\u001b[0m\u001b[0;34m\u001b[0m\u001b[0;34m\u001b[0m\u001b[0m\n\u001b[1;32m    419\u001b[0m             \u001b[0mmessage\u001b[0m \u001b[0;34m=\u001b[0m \u001b[0;34mf\"{response.status_code} Client Error.\"\u001b[0m \u001b[0;34m+\u001b[0m \u001b[0;34m\"\\n\\n\"\u001b[0m \u001b[0;34m+\u001b[0m \u001b[0;34mf\"Entry Not Found for url: {response.url}.\"\u001b[0m\u001b[0;34m\u001b[0m\u001b[0;34m\u001b[0m\u001b[0m\n\u001b[0;32m--> 420\u001b[0;31m             \u001b[0;32mraise\u001b[0m \u001b[0m_format\u001b[0m\u001b[0;34m(\u001b[0m\u001b[0mEntryNotFoundError\u001b[0m\u001b[0;34m,\u001b[0m \u001b[0mmessage\u001b[0m\u001b[0;34m,\u001b[0m \u001b[0mresponse\u001b[0m\u001b[0;34m)\u001b[0m \u001b[0;32mfrom\u001b[0m \u001b[0me\u001b[0m\u001b[0;34m\u001b[0m\u001b[0;34m\u001b[0m\u001b[0m\n\u001b[0m\u001b[1;32m    421\u001b[0m \u001b[0;34m\u001b[0m\u001b[0m\n\u001b[1;32m    422\u001b[0m         \u001b[0;32melif\u001b[0m \u001b[0merror_code\u001b[0m \u001b[0;34m==\u001b[0m \u001b[0;34m\"GatedRepo\"\u001b[0m\u001b[0;34m:\u001b[0m\u001b[0;34m\u001b[0m\u001b[0;34m\u001b[0m\u001b[0m\n",
      "\u001b[0;31mEntryNotFoundError\u001b[0m: 404 Client Error. (Request ID: Root=1-6846d9aa-59b1dc3646778c3159cda1a5;056d5d2d-626e-4bf8-8fb0-e2396abe79db)\n\nEntry Not Found for url: https://huggingface.co/voyageai/voyage-code-3/resolve/main/config.json."
     ]
    }
   ],
   "source": [
    "#Imports\n",
    "from embed import BatchedInference\n",
    "from concurrent.futures import Future\n",
    "\n",
    "\n",
    "#Define custom embedding function\n",
    "register = BatchedInference(\n",
    "        model_id=[\n",
    "            \"jinaai/jina-embeddings-v2-base-code\",\n",
    "            #\"voyageai/voyage-code-3\", #not open source--requires separate api key\n",
    "            \"Salesforce/codet5p-110m-embedding\",\n",
    "            \"codesage/codesage-large-v2\"\n",
    "        ],\n",
    "        engine=\"torch\",\n",
    "        device=\"cuda\",\n",
    "    )\n",
    "\n",
    "#Milvus setup\n",
    "from pymilvus import MilvusClient\n",
    "milvus_client = MilvusClient(uri=\"./milvus_demo.db\")\n",
    "\n",
    "#Define collection names and drop if present\n",
    "collections = [\"PriA\", \"PriB\", \"PriC\", \"FrkA\", \"FrkB\", \"FrkC\"]\n",
    "for idx in collections:\n",
    "    if milvus_client.has_collection(idx):\n",
    "        milvus_client.drop_collection(idx)\n",
    "\n",
    "#Create new collections\n",
    "for idx in collections:\n",
    "    milvus_client.create_collection(\n",
    "        collection_name=idx,\n",
    "        metric_type=\"COSINE\",\n",
    "        consistency_level=\"Strong\",\n",
    "    )\n",
    "\n",
    "#Define loading function for repository data\n",
    "#aiming to successfully store embeddings at first. But want to figure out how to\n",
    "#store the relevant file contents for each file as metadata on the vector as well, so it can be used in visualization\n",
    "\n",
    "def load(dir, db, model):\n",
    "    import os\n",
    "    for root, dirs, files in os.walk(dir):\n",
    "        for dir in dirs:\n",
    "            load(dir, db, model)\n",
    "        for file in files:\n",
    "            future: \"Future\" = register.embed(\n",
    "                sentences=file, model_id=model\n",
    "            )\n",
    "            milvus_client.insert(collection_name=db, data=future.result())\n",
    "\n",
    "#Pull down repositories\n",
    "from git import Repo\n",
    "\n",
    "#embed repositories\n",
    "primary = Repo.clone_from({\"https://github.com/cowsay-org/cowsay\"}, \"./data/primary\")\n",
    "fork = Repo.clone_from({\"https://github.com/cowsay-org/homebrew-cowsay\"}, \"./data/fork\")\n",
    "\n",
    "load(\"./data/primary\", \"PriA\", \"jina-embeddings-v2-base-code\")\n",
    "\n",
    "register.stop()\n",
    "\n"
   ]
  },
  {
   "cell_type": "code",
   "execution_count": null,
   "metadata": {
    "id": "6z2q8uP7RuyA"
   },
   "outputs": [],
   "source": [
    "!rm -rf ./repo"
   ]
  }
 ],
 "metadata": {
  "accelerator": "GPU",
  "colab": {
   "gpuType": "T4",
   "provenance": []
  },
  "jupytext": {
   "formats": "ipynb,py:percent",
   "main_language": "python"
  },
  "kernelspec": {
   "display_name": "Python 3",
   "name": "python3"
  },
  "language_info": {
   "name": "python"
  }
 },
 "nbformat": 4,
 "nbformat_minor": 0
}
