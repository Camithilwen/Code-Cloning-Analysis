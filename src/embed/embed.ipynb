{
 "cells": [
  {
   "cell_type": "code",
   "execution_count": null,
   "id": "091b9480",
   "metadata": {},
   "outputs": [],
   "source": [
    "\n",
    "#System installs\n",
    "!pip install GitPython\n",
    "!pip install embed\n",
    "!pip install torch\n",
    "!pip install transformers\n",
    "!pip install --upgrade pymilvus\n",
    "\n",
    "#Imports\n",
    "from embed import BatchedInference\n",
    "from concurrent.futures import Future\n",
    "\n",
    "\n",
    "#Define custom embedding function\n",
    "    register = BatchedInference(\n",
    "        model_id=[\n",
    "            \"jina-embeddings-v2-base-code\",\n",
    "            \"voyage-code-3\",\n",
    "            \"codesage-large-v2\"\n",
    "        ],\n",
    "        engine=\"torch\",\n",
    "        device=\"cuda\",\n",
    "    )\n",
    "\n",
    "#Milvus setup\n",
    "from pymilvus import MilvusClient\n",
    "milvus_client = MilvusClient(uri=\"./milvus_demo.db\")\n",
    "\n",
    "#Define collection names and drop if present\n",
    "collections = [\"PriA\", \"PriB\", \"PriC\", \"FrkA\", \"FrkB\", \"FrkC\"]\n",
    "for idx in collections:\n",
    "    if milvus_client.has_collection(idx):\n",
    "        milvus_client.drop_collection(idx)\n",
    "\n",
    "#Create new collections\n",
    "for idx in collections:\n",
    "    milvus_client.create_collection(\n",
    "        collection_name=idx,\n",
    "        metric_type=\"COSINE\",\n",
    "        consistency_level=\"Strong\",\n",
    "    )\n",
    "\n",
    "#Define loading function for repository data\n",
    "/*aiming to successfully store embeddings at first. But want to figure out how to\n",
    "store the relevant file contents for each file as metadata on the vector as well, so it can be used in visualization\n",
    "*/\n",
    "def load(dir, db, model):\n",
    "    import os\n",
    "    for root, dirs, files in os.walk(dir):\n",
    "        for dir in dirs:\n",
    "            load(dir, db, model)\n",
    "        for file in files:\n",
    "            future: \"Future\" = register.embed(\n",
    "                sentences=file, model_id=model\n",
    "            )\n",
    "            milvus_client.insert(collection_name=db, data=future.result())\n",
    "\n",
    "#Pull down repositories\n",
    "from git import Repo\n",
    "\n",
    "#embed repositories\n",
    "primary = Repo.clone_from({repo_url}, ./data/primary)\n",
    "fork = Repo.clone_from({repo_url}, ./data/fork)\n",
    "\n",
    "load(\"./data/primary\", \"PriA\", \"jina-embeddings-v2-base-code\")\n",
    "\n",
    "!rm -rf ./repo"
   ]
  }
 ],
 "metadata": {
  "colab": {
   "provenance": []
  },
  "jupytext": {
   "formats": "ipynb,py:percent",
   "main_language": "python"
  },
  "kernelspec": {
   "display_name": "Python 3",
   "name": "python3"
  },
  "language_info": {
   "name": "python"
  }
 },
 "nbformat": 4,
 "nbformat_minor": 0
}
